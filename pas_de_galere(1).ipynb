{
  "cells": [
    {
      "cell_type": "markdown",
      "metadata": {
        "id": "hwnNC8h72NvQ"
      },
      "source": [
        "# Sarter Notebook"
      ]
    },
    {
      "cell_type": "code",
      "execution_count": null,
      "metadata": {
        "id": "VNcfDAa42NvU"
      },
      "outputs": [],
      "source": [
        "import pandas as pd\n",
        "import seaborn as sns\n",
        "import matplotlib.pyplot as plt\n",
        "from scipy import stats\n",
        "import numpy as np"
      ]
    },
    {
      "cell_type": "code",
      "execution_count": null,
      "metadata": {
        "colab": {
          "base_uri": "https://localhost:8080/"
        },
        "id": "9JCvtU3K2QWK",
        "outputId": "e32578d7-73ba-4536-db15-4a42d27243d5"
      },
      "outputs": [
        {
          "name": "stdout",
          "output_type": "stream",
          "text": [
            "Mounted at /content/drive\n"
          ]
        }
      ],
      "source": [
        "from google.colab import drive\n",
        "drive.mount('/content/drive')"
      ]
    },
    {
      "cell_type": "code",
      "execution_count": null,
      "metadata": {
        "colab": {
          "base_uri": "https://localhost:8080/"
        },
        "id": "A-M24cNe261S",
        "outputId": "32982df2-7a57-436e-ea68-ddf766b18566"
      },
      "outputs": [
        {
          "name": "stdout",
          "output_type": "stream",
          "text": [
            "/content/drive/MyDrive\n"
          ]
        }
      ],
      "source": [
        "cd drive/MyDrive"
      ]
    },
    {
      "cell_type": "markdown",
      "metadata": {
        "id": "Hoe3TpP42NvZ"
      },
      "source": [
        "## Reading Data"
      ]
    },
    {
      "cell_type": "code",
      "execution_count": null,
      "metadata": {
        "id": "GIF3yF_q2Nva"
      },
      "outputs": [],
      "source": [
        "# read train data\n",
        "df = pd.read_csv(\"data_with_all_columns.csv\", sep=\",\")\n",
        "\n",
        "\n",
        "# read test data\n",
        "df_test = pd.read_csv(\"data_test_with_all_columns.csv\", sep=\",\")"
      ]
    },
    {
      "cell_type": "code",
      "execution_count": null,
      "metadata": {
        "colab": {
          "base_uri": "https://localhost:8080/"
        },
        "id": "gaqi15pm2Nvb",
        "outputId": "15213757-1e98-4ca9-e9b2-1f57c81b5d9b"
      },
      "outputs": [
        {
          "data": {
            "text/plain": [
              "114276"
            ]
          },
          "execution_count": 5,
          "metadata": {},
          "output_type": "execute_result"
        }
      ],
      "source": [
        "len(df)"
      ]
    },
    {
      "cell_type": "code",
      "execution_count": null,
      "metadata": {
        "colab": {
          "base_uri": "https://localhost:8080/",
          "height": 374
        },
        "id": "8EtOUcbd2Nvd",
        "outputId": "a335a9e2-be22-4268-a3eb-2d82ebe109d2"
      },
      "outputs": [
        {
          "data": {
            "text/html": [
              "\n",
              "  <div id=\"df-963a7e51-0eec-4662-8d41-1f83d8f11301\">\n",
              "    <div class=\"colab-df-container\">\n",
              "      <div>\n",
              "<style scoped>\n",
              "    .dataframe tbody tr th:only-of-type {\n",
              "        vertical-align: middle;\n",
              "    }\n",
              "\n",
              "    .dataframe tbody tr th {\n",
              "        vertical-align: top;\n",
              "    }\n",
              "\n",
              "    .dataframe thead th {\n",
              "        text-align: right;\n",
              "    }\n",
              "</style>\n",
              "<table border=\"1\" class=\"dataframe\">\n",
              "  <thead>\n",
              "    <tr style=\"text-align: right;\">\n",
              "      <th></th>\n",
              "      <th>Unnamed: 0</th>\n",
              "      <th>order_id</th>\n",
              "      <th>origin_port</th>\n",
              "      <th>3pl</th>\n",
              "      <th>customs_procedures</th>\n",
              "      <th>logistic_hub</th>\n",
              "      <th>customer</th>\n",
              "      <th>product_id</th>\n",
              "      <th>units</th>\n",
              "      <th>weight</th>\n",
              "      <th>material_handling</th>\n",
              "      <th>weight_class</th>\n",
              "      <th>city_from_name</th>\n",
              "      <th>city_to_name</th>\n",
              "      <th>city_from_coord</th>\n",
              "      <th>city_to_coord</th>\n",
              "      <th>distance</th>\n",
              "      <th>cost_per_unit</th>\n",
              "      <th>co2_per_unit</th>\n",
              "    </tr>\n",
              "  </thead>\n",
              "  <tbody>\n",
              "    <tr>\n",
              "      <th>0</th>\n",
              "      <td>0</td>\n",
              "      <td>21f46131b97a</td>\n",
              "      <td>Athens</td>\n",
              "      <td>v_002</td>\n",
              "      <td>CRF</td>\n",
              "      <td>Bratislava</td>\n",
              "      <td>Amsterdam</td>\n",
              "      <td>1657474</td>\n",
              "      <td>526</td>\n",
              "      <td>598.0</td>\n",
              "      <td>5.0</td>\n",
              "      <td>0.0</td>\n",
              "      <td>Bratislava</td>\n",
              "      <td>Amsterdam</td>\n",
              "      <td>(48.1516988, 17.1093063)</td>\n",
              "      <td>(52.3727598, 4.8936041)</td>\n",
              "      <td>987.7402</td>\n",
              "      <td>382.77</td>\n",
              "      <td>666.72</td>\n",
              "    </tr>\n",
              "    <tr>\n",
              "      <th>1</th>\n",
              "      <td>1</td>\n",
              "      <td>7c2bc95d92cf</td>\n",
              "      <td>Rotterdam</td>\n",
              "      <td>v_002</td>\n",
              "      <td>CRF</td>\n",
              "      <td>Bratislava</td>\n",
              "      <td>Amsterdam</td>\n",
              "      <td>1657474</td>\n",
              "      <td>475</td>\n",
              "      <td>598.0</td>\n",
              "      <td>5.0</td>\n",
              "      <td>0.0</td>\n",
              "      <td>Bratislava</td>\n",
              "      <td>Amsterdam</td>\n",
              "      <td>(48.1516988, 17.1093063)</td>\n",
              "      <td>(52.3727598, 4.8936041)</td>\n",
              "      <td>987.7402</td>\n",
              "      <td>382.77</td>\n",
              "      <td>666.72</td>\n",
              "    </tr>\n",
              "    <tr>\n",
              "      <th>2</th>\n",
              "      <td>2</td>\n",
              "      <td>af989251c6df</td>\n",
              "      <td>Athens</td>\n",
              "      <td>v_002</td>\n",
              "      <td>DTD</td>\n",
              "      <td>Bratislava</td>\n",
              "      <td>Amsterdam</td>\n",
              "      <td>1660885</td>\n",
              "      <td>488</td>\n",
              "      <td>463.0</td>\n",
              "      <td>2.0</td>\n",
              "      <td>0.0</td>\n",
              "      <td>Bratislava</td>\n",
              "      <td>Amsterdam</td>\n",
              "      <td>(48.1516988, 17.1093063)</td>\n",
              "      <td>(52.3727598, 4.8936041)</td>\n",
              "      <td>987.7402</td>\n",
              "      <td>382.77</td>\n",
              "      <td>666.72</td>\n",
              "    </tr>\n",
              "    <tr>\n",
              "      <th>3</th>\n",
              "      <td>3</td>\n",
              "      <td>cbb02981443c</td>\n",
              "      <td>Rotterdam</td>\n",
              "      <td>v_003</td>\n",
              "      <td>CRF</td>\n",
              "      <td>Bratislava</td>\n",
              "      <td>Amsterdam</td>\n",
              "      <td>1668127</td>\n",
              "      <td>433</td>\n",
              "      <td>594.0</td>\n",
              "      <td>5.0</td>\n",
              "      <td>0.0</td>\n",
              "      <td>Bratislava</td>\n",
              "      <td>Amsterdam</td>\n",
              "      <td>(48.1516988, 17.1093063)</td>\n",
              "      <td>(52.3727598, 4.8936041)</td>\n",
              "      <td>987.7402</td>\n",
              "      <td>382.77</td>\n",
              "      <td>666.72</td>\n",
              "    </tr>\n",
              "    <tr>\n",
              "      <th>4</th>\n",
              "      <td>4</td>\n",
              "      <td>d831e0817ae2</td>\n",
              "      <td>Barcelona</td>\n",
              "      <td>v_003</td>\n",
              "      <td>DTD</td>\n",
              "      <td>Bratislava</td>\n",
              "      <td>Amsterdam</td>\n",
              "      <td>1678652</td>\n",
              "      <td>447</td>\n",
              "      <td>504.0</td>\n",
              "      <td>3.0</td>\n",
              "      <td>0.0</td>\n",
              "      <td>Bratislava</td>\n",
              "      <td>Amsterdam</td>\n",
              "      <td>(48.1516988, 17.1093063)</td>\n",
              "      <td>(52.3727598, 4.8936041)</td>\n",
              "      <td>987.7402</td>\n",
              "      <td>382.77</td>\n",
              "      <td>666.72</td>\n",
              "    </tr>\n",
              "  </tbody>\n",
              "</table>\n",
              "</div>\n",
              "      <button class=\"colab-df-convert\" onclick=\"convertToInteractive('df-963a7e51-0eec-4662-8d41-1f83d8f11301')\"\n",
              "              title=\"Convert this dataframe to an interactive table.\"\n",
              "              style=\"display:none;\">\n",
              "        \n",
              "  <svg xmlns=\"http://www.w3.org/2000/svg\" height=\"24px\"viewBox=\"0 0 24 24\"\n",
              "       width=\"24px\">\n",
              "    <path d=\"M0 0h24v24H0V0z\" fill=\"none\"/>\n",
              "    <path d=\"M18.56 5.44l.94 2.06.94-2.06 2.06-.94-2.06-.94-.94-2.06-.94 2.06-2.06.94zm-11 1L8.5 8.5l.94-2.06 2.06-.94-2.06-.94L8.5 2.5l-.94 2.06-2.06.94zm10 10l.94 2.06.94-2.06 2.06-.94-2.06-.94-.94-2.06-.94 2.06-2.06.94z\"/><path d=\"M17.41 7.96l-1.37-1.37c-.4-.4-.92-.59-1.43-.59-.52 0-1.04.2-1.43.59L10.3 9.45l-7.72 7.72c-.78.78-.78 2.05 0 2.83L4 21.41c.39.39.9.59 1.41.59.51 0 1.02-.2 1.41-.59l7.78-7.78 2.81-2.81c.8-.78.8-2.07 0-2.86zM5.41 20L4 18.59l7.72-7.72 1.47 1.35L5.41 20z\"/>\n",
              "  </svg>\n",
              "      </button>\n",
              "      \n",
              "  <style>\n",
              "    .colab-df-container {\n",
              "      display:flex;\n",
              "      flex-wrap:wrap;\n",
              "      gap: 12px;\n",
              "    }\n",
              "\n",
              "    .colab-df-convert {\n",
              "      background-color: #E8F0FE;\n",
              "      border: none;\n",
              "      border-radius: 50%;\n",
              "      cursor: pointer;\n",
              "      display: none;\n",
              "      fill: #1967D2;\n",
              "      height: 32px;\n",
              "      padding: 0 0 0 0;\n",
              "      width: 32px;\n",
              "    }\n",
              "\n",
              "    .colab-df-convert:hover {\n",
              "      background-color: #E2EBFA;\n",
              "      box-shadow: 0px 1px 2px rgba(60, 64, 67, 0.3), 0px 1px 3px 1px rgba(60, 64, 67, 0.15);\n",
              "      fill: #174EA6;\n",
              "    }\n",
              "\n",
              "    [theme=dark] .colab-df-convert {\n",
              "      background-color: #3B4455;\n",
              "      fill: #D2E3FC;\n",
              "    }\n",
              "\n",
              "    [theme=dark] .colab-df-convert:hover {\n",
              "      background-color: #434B5C;\n",
              "      box-shadow: 0px 1px 3px 1px rgba(0, 0, 0, 0.15);\n",
              "      filter: drop-shadow(0px 1px 2px rgba(0, 0, 0, 0.3));\n",
              "      fill: #FFFFFF;\n",
              "    }\n",
              "  </style>\n",
              "\n",
              "      <script>\n",
              "        const buttonEl =\n",
              "          document.querySelector('#df-963a7e51-0eec-4662-8d41-1f83d8f11301 button.colab-df-convert');\n",
              "        buttonEl.style.display =\n",
              "          google.colab.kernel.accessAllowed ? 'block' : 'none';\n",
              "\n",
              "        async function convertToInteractive(key) {\n",
              "          const element = document.querySelector('#df-963a7e51-0eec-4662-8d41-1f83d8f11301');\n",
              "          const dataTable =\n",
              "            await google.colab.kernel.invokeFunction('convertToInteractive',\n",
              "                                                     [key], {});\n",
              "          if (!dataTable) return;\n",
              "\n",
              "          const docLinkHtml = 'Like what you see? Visit the ' +\n",
              "            '<a target=\"_blank\" href=https://colab.research.google.com/notebooks/data_table.ipynb>data table notebook</a>'\n",
              "            + ' to learn more about interactive tables.';\n",
              "          element.innerHTML = '';\n",
              "          dataTable['output_type'] = 'display_data';\n",
              "          await google.colab.output.renderOutput(dataTable, element);\n",
              "          const docLink = document.createElement('div');\n",
              "          docLink.innerHTML = docLinkHtml;\n",
              "          element.appendChild(docLink);\n",
              "        }\n",
              "      </script>\n",
              "    </div>\n",
              "  </div>\n",
              "  "
            ],
            "text/plain": [
              "   Unnamed: 0      order_id origin_port    3pl customs_procedures  \\\n",
              "0           0  21f46131b97a      Athens  v_002                CRF   \n",
              "1           1  7c2bc95d92cf   Rotterdam  v_002                CRF   \n",
              "2           2  af989251c6df      Athens  v_002                DTD   \n",
              "3           3  cbb02981443c   Rotterdam  v_003                CRF   \n",
              "4           4  d831e0817ae2   Barcelona  v_003                DTD   \n",
              "\n",
              "  logistic_hub   customer  product_id  units  weight  material_handling  \\\n",
              "0   Bratislava  Amsterdam     1657474    526   598.0                5.0   \n",
              "1   Bratislava  Amsterdam     1657474    475   598.0                5.0   \n",
              "2   Bratislava  Amsterdam     1660885    488   463.0                2.0   \n",
              "3   Bratislava  Amsterdam     1668127    433   594.0                5.0   \n",
              "4   Bratislava  Amsterdam     1678652    447   504.0                3.0   \n",
              "\n",
              "   weight_class city_from_name city_to_name           city_from_coord  \\\n",
              "0           0.0     Bratislava    Amsterdam  (48.1516988, 17.1093063)   \n",
              "1           0.0     Bratislava    Amsterdam  (48.1516988, 17.1093063)   \n",
              "2           0.0     Bratislava    Amsterdam  (48.1516988, 17.1093063)   \n",
              "3           0.0     Bratislava    Amsterdam  (48.1516988, 17.1093063)   \n",
              "4           0.0     Bratislava    Amsterdam  (48.1516988, 17.1093063)   \n",
              "\n",
              "             city_to_coord  distance  cost_per_unit  co2_per_unit  \n",
              "0  (52.3727598, 4.8936041)  987.7402         382.77        666.72  \n",
              "1  (52.3727598, 4.8936041)  987.7402         382.77        666.72  \n",
              "2  (52.3727598, 4.8936041)  987.7402         382.77        666.72  \n",
              "3  (52.3727598, 4.8936041)  987.7402         382.77        666.72  \n",
              "4  (52.3727598, 4.8936041)  987.7402         382.77        666.72  "
            ]
          },
          "execution_count": 6,
          "metadata": {},
          "output_type": "execute_result"
        }
      ],
      "source": [
        "df.head()\n",
        "df_test.head()"
      ]
    },
    {
      "cell_type": "markdown",
      "metadata": {
        "id": "GJ4ZJw7W2Nvf"
      },
      "source": [
        "# Data preprocessing"
      ]
    },
    {
      "cell_type": "code",
      "execution_count": null,
      "metadata": {
        "colab": {
          "base_uri": "https://localhost:8080/"
        },
        "id": "HvrOQex_2Nvg",
        "outputId": "9b228b67-cef9-4c53-cdd8-6f8c3ec3dd59"
      },
      "outputs": [
        {
          "name": "stdout",
          "output_type": "stream",
          "text": [
            "logistic_hub 1049\n",
            "weight 118\n",
            "material_handling 118\n",
            "weight_class 118\n",
            "city_from_name 2649\n",
            "city_to_name 2649\n",
            "city_from_coord 2649\n",
            "city_to_coord 2649\n",
            "distance 2649\n",
            "cost_per_unit 2649\n",
            "co2_per_unit 2649\n"
          ]
        }
      ],
      "source": [
        "#counting NA\n",
        "for col in df.columns:\n",
        "    if df[col].isna().sum()>0:\n",
        "        print(col, df[col].isna().sum())"
      ]
    },
    {
      "cell_type": "code",
      "execution_count": null,
      "metadata": {
        "id": "rZVZzdoF2Nvi"
      },
      "outputs": [],
      "source": [
        "## Encoding Categorical variables (late_order)\n",
        "def convert(x):\n",
        "    if(x== False):\n",
        "        return 0\n",
        "    else:\n",
        "        return 1"
      ]
    },
    {
      "cell_type": "code",
      "execution_count": null,
      "metadata": {
        "id": "4DOuYGfs2Nvl"
      },
      "outputs": [],
      "source": [
        "df['late_order']=df['late_order'].apply(lambda x:convert(x))"
      ]
    },
    {
      "cell_type": "markdown",
      "metadata": {
        "id": "zh8b06wy2Nvo"
      },
      "source": [
        "# Linear model"
      ]
    },
    {
      "cell_type": "code",
      "execution_count": null,
      "metadata": {
        "colab": {
          "base_uri": "https://localhost:8080/"
        },
        "id": "j5ZrwG-q2Nvp",
        "outputId": "de702da4-0973-4512-a7d9-bf972bb06f78"
      },
      "outputs": [
        {
          "name": "stderr",
          "output_type": "stream",
          "text": [
            "/usr/local/lib/python3.7/dist-packages/ipykernel_launcher.py:4: SettingWithCopyWarning: \n",
            "A value is trying to be set on a copy of a slice from a DataFrame.\n",
            "Try using .loc[row_indexer,col_indexer] = value instead\n",
            "\n",
            "See the caveats in the documentation: https://pandas.pydata.org/pandas-docs/stable/user_guide/indexing.html#returning-a-view-versus-a-copy\n",
            "  after removing the cwd from sys.path.\n"
          ]
        }
      ],
      "source": [
        "df_new = df.dropna(how='any')\n",
        "len(df_new)\n",
        "\n",
        "df_new['pl']=df_new['3pl']"
      ]
    },
    {
      "cell_type": "code",
      "execution_count": null,
      "metadata": {
        "id": "XgpkpcLB2Nvr"
      },
      "outputs": [],
      "source": [
        "\n",
        "import statsmodels.formula.api as sm\n",
        "result = sm.ols(formula='late_order ~origin_port+pl+customs_procedures+logistic_hub+customer+units+weight+material_handling+weight_class+distance+cost_per_unit+co2_per_unit', data=df_new).fit()"
      ]
    },
    {
      "cell_type": "code",
      "execution_count": null,
      "metadata": {
        "colab": {
          "base_uri": "https://localhost:8080/"
        },
        "id": "uE-2xfMG2Nvs",
        "outputId": "22abe6a8-3d2e-415a-d9f4-6e68670ab8f8"
      },
      "outputs": [
        {
          "data": {
            "text/plain": [
              "origin_port[T.Rotterdam]      71.685922\n",
              "units                         59.798225\n",
              "pl[T.v_002]                   36.766266\n",
              "customs_procedures[T.DTP]     33.686815\n",
              "origin_port[T.Barcelona]      29.083494\n",
              "pl[T.v_004]                   25.076519\n",
              "logistic_hub[T.Venlo]         21.553832\n",
              "logistic_hub[T.Dusseldorf]    20.474717\n",
              "customs_procedures[T.DTD]     20.421899\n",
              "logistic_hub[T.Hamburg]       20.087435\n",
              "pl[T.v_003]                   19.947812\n",
              "logistic_hub[T.Warsaw]        17.921068\n",
              "customer[T.Lyon]              14.107378\n",
              "customer[T.Paris]             13.892887\n",
              "customer[T.Marseille]         12.444087\n",
              "weight                        12.422926\n",
              "logistic_hub[T.Liege]         12.083822\n",
              "logistic_hub[T.Rome]          11.162628\n",
              "customer[T.Bordeaux]           8.553852\n",
              "customer[T.Copenhagen]         7.440933\n",
              "material_handling              7.176561\n",
              "distance                       6.891311\n",
              "Intercept                      6.169728\n",
              "customer[T.Helsinki]           5.592661\n",
              "customer[T.Malmö]              5.539179\n",
              "weight_class                   5.180791\n",
              "customer[T.Stockholm]          5.179147\n",
              "logistic_hub[T.Lille]          4.119812\n",
              "customer[T.Lisbon]             3.600052\n",
              "customer[T.Porto]              3.104645\n",
              "customer[T.Bucharest]          2.800143\n",
              "customer[T.Madrid]             2.314422\n",
              "customer[T.Athens]             1.692767\n",
              "customer[T.Bremen]             1.602968\n",
              "cost_per_unit                  1.597560\n",
              "customer[T.Naples]             1.331604\n",
              "customer[T.Valencia]           1.319796\n",
              "customer[T.Turin]              1.069524\n",
              "customer[T.Cologne]            0.941331\n",
              "customer[T.Prague]             0.525690\n",
              "customer[T.Budapest]           0.493114\n",
              "customer[T.Vienna]             0.404107\n",
              "customer[T.Munich]             0.374167\n",
              "customer[T.Barcelona]          0.350022\n",
              "customer[T.Rome]               0.341431\n",
              "customer[T.Berlin]             0.334889\n",
              "logistic_hub[T.Zaragoza]       0.323644\n",
              "co2_per_unit                   0.301301\n",
              "customer[T.Milan]              0.215446\n",
              "customer[T.Hanover]            0.109280\n",
              "dtype: float64"
            ]
          },
          "execution_count": 12,
          "metadata": {},
          "output_type": "execute_result"
        }
      ],
      "source": [
        "tvals = result.tvalues\n",
        "tvals = tvals.abs()\n",
        "tvals = tvals.sort_values(ascending=False)\n",
        "tvals"
      ]
    },
    {
      "cell_type": "code",
      "execution_count": null,
      "metadata": {
        "colab": {
          "base_uri": "https://localhost:8080/"
        },
        "id": "1zlMRzlO2Nvt",
        "outputId": "fd4884cf-4462-4471-8a3a-d974b24b18f7"
      },
      "outputs": [
        {
          "name": "stdout",
          "output_type": "stream",
          "text": [
            "SIGNIFICANT FACTORS BASED ON t-values\n",
            "-------------------------------------\n",
            "origin_port[T.Rotterdam]\n",
            "units\n",
            "pl[T.v_002]\n",
            "customs_procedures[T.DTP]\n",
            "origin_port[T.Barcelona]\n",
            "pl[T.v_004]\n",
            "logistic_hub[T.Venlo]\n",
            "logistic_hub[T.Dusseldorf]\n",
            "customs_procedures[T.DTD]\n",
            "logistic_hub[T.Hamburg]\n",
            "pl[T.v_003]\n",
            "logistic_hub[T.Warsaw]\n",
            "customer[T.Lyon]\n",
            "customer[T.Paris]\n",
            "customer[T.Marseille]\n",
            "weight\n",
            "logistic_hub[T.Liege]\n",
            "logistic_hub[T.Rome]\n",
            "customer[T.Bordeaux]\n",
            "customer[T.Copenhagen]\n",
            "material_handling\n",
            "distance\n",
            "Intercept\n",
            "customer[T.Helsinki]\n",
            "customer[T.Malmö]\n",
            "weight_class\n",
            "customer[T.Stockholm]\n",
            "logistic_hub[T.Lille]\n",
            "customer[T.Lisbon]\n",
            "customer[T.Porto]\n",
            "customer[T.Bucharest]\n",
            "customer[T.Madrid]\n"
          ]
        }
      ],
      "source": [
        "significant_factors = tvals[tvals>1.96]\n",
        "print(\"SIGNIFICANT FACTORS BASED ON t-values\")\n",
        "print(\"-------------------------------------\")\n",
        "for i in significant_factors.index:\n",
        "    print(i)"
      ]
    },
    {
      "cell_type": "code",
      "execution_count": null,
      "metadata": {
        "colab": {
          "base_uri": "https://localhost:8080/"
        },
        "id": "F9LWH1PR2Nvv",
        "outputId": "2ac5d2a9-ca88-4e68-fd54-1fc786a46c6b",
        "scrolled": true
      },
      "outputs": [
        {
          "data": {
            "text/plain": [
              "['customer[T.Turin]',\n",
              " 'customer[T.Milan]',\n",
              " 'customer[T.Cologne]',\n",
              " 'customer[T.Valencia]',\n",
              " 'customer[T.Barcelona]',\n",
              " 'customer[T.Vienna]',\n",
              " 'cost_per_unit',\n",
              " 'customer[T.Munich]',\n",
              " 'customer[T.Athens]',\n",
              " 'customer[T.Hanover]',\n",
              " 'logistic_hub[T.Zaragoza]',\n",
              " 'customer[T.Budapest]',\n",
              " 'customer[T.Rome]',\n",
              " 'customer[T.Bremen]',\n",
              " 'customer[T.Naples]',\n",
              " 'customer[T.Prague]',\n",
              " 'co2_per_unit',\n",
              " 'customer[T.Berlin]']"
            ]
          },
          "execution_count": 14,
          "metadata": {},
          "output_type": "execute_result"
        }
      ],
      "source": [
        "insignificant_factors = list(set(result.params.index) - set(significant_factors.index))\n",
        "insignificant_factors"
      ]
    },
    {
      "cell_type": "code",
      "execution_count": null,
      "metadata": {
        "id": "uWdoLngM2Nvx"
      },
      "outputs": [],
      "source": [
        "#After removing insiginificant factors\n",
        "result = sm.ols(formula='late_order ~origin_port+pl+customs_procedures+units+weight+material_handling+weight_class+distance', data=df_new).fit()"
      ]
    },
    {
      "cell_type": "code",
      "execution_count": null,
      "metadata": {
        "colab": {
          "base_uri": "https://localhost:8080/"
        },
        "id": "tSMsygrt2Nvy",
        "outputId": "44fc6ad3-30ea-4f30-a804-90671cc28f3f"
      },
      "outputs": [
        {
          "data": {
            "text/plain": [
              "origin_port[T.Rotterdam]     70.397594\n",
              "units                        59.157445\n",
              "pl[T.v_002]                  35.879559\n",
              "customs_procedures[T.DTP]    33.170984\n",
              "distance                     28.905972\n",
              "origin_port[T.Barcelona]     28.387097\n",
              "pl[T.v_004]                  24.328457\n",
              "customs_procedures[T.DTD]    20.190636\n",
              "pl[T.v_003]                  19.351442\n",
              "Intercept                    14.886784\n",
              "weight                       12.057223\n",
              "material_handling             7.399758\n",
              "weight_class                  6.439417\n",
              "dtype: float64"
            ]
          },
          "execution_count": 16,
          "metadata": {},
          "output_type": "execute_result"
        }
      ],
      "source": [
        "tvals = result.tvalues\n",
        "tvals = abs(tvals)\n",
        "tvals.sort_values(ascending=False)"
      ]
    },
    {
      "cell_type": "markdown",
      "metadata": {
        "id": "xPHjwD4g2Nvz"
      },
      "source": [
        "### By the absolute values of the t-values, units, distance, weight, weight class and material handling  are significant factors contributing to the failure in delivery."
      ]
    },
    {
      "cell_type": "code",
      "execution_count": null,
      "metadata": {
        "id": "DhVH9OU02Nv9"
      },
      "outputs": [],
      "source": [
        "# Sub-sampling the points for seeing any anomolies in the data\n",
        "df_temp=df_new.sample(10000)"
      ]
    },
    {
      "cell_type": "code",
      "execution_count": null,
      "metadata": {
        "id": "GCZ95r6H2Nv-"
      },
      "outputs": [],
      "source": [
        "# After removing insiginificant factors\n",
        "result = sm.ols(formula='late_order ~origin_port+pl+customs_procedures+units+weight+material_handling+weight_class+distance', data=df_temp).fit()"
      ]
    },
    {
      "cell_type": "code",
      "execution_count": null,
      "metadata": {
        "colab": {
          "base_uri": "https://localhost:8080/",
          "height": 54
        },
        "id": "Dnn81-_W2Nv_",
        "outputId": "09845fff-21e8-4742-9bf7-a432cfacb1f4"
      },
      "outputs": [
        {
          "data": {
            "image/png": "[encoded data removed]",
            "text/plain": [
              "<Figure size 864x576 with 1 Axes>"
            ]
          },
          "metadata": {},
          "output_type": "display_data"
        }
      ],
      "source": [
        "import statsmodels.api as sg\n",
        "fig, ax = plt.subplots(figsize=(12,8))\n",
        "fig = sg.graphics.influence_plot(result, ax=ax, criterion=\"cooks\")"
      ]
    },
    {
      "cell_type": "markdown",
      "metadata": {
        "id": "kXCMDX982NwA"
      },
      "source": [
        "### Clearly, there are many outliers for which we need a robust model that would not get affected by these high leverage points."
      ]
    },
    {
      "cell_type": "markdown",
      "metadata": {
        "id": "MlZRx2t_2NwB"
      },
      "source": [
        "### Correlation check to avoid multi-collinearity"
      ]
    },
    {
      "cell_type": "code",
      "execution_count": null,
      "metadata": {
        "colab": {
          "base_uri": "https://localhost:8080/"
        },
        "id": "YufVMCnC2NwB",
        "outputId": "e1d47d4a-8791-43ea-a6f5-d7c60cd5cbf4"
      },
      "outputs": [
        {
          "data": {
            "text/plain": [
              "8"
            ]
          },
          "execution_count": 20,
          "metadata": {},
          "output_type": "execute_result"
        }
      ],
      "source": [
        "cols=['origin_port','pl','customs_procedures','units','weight','material_handling','weight_class','distance']\n",
        "len(cols)"
      ]
    },
    {
      "cell_type": "code",
      "execution_count": null,
      "metadata": {
        "colab": {
          "base_uri": "https://localhost:8080/",
          "height": 270
        },
        "id": "bRRBsX9B2NwC",
        "outputId": "60229e56-e8f2-49b9-f66f-50285310e0d8"
      },
      "outputs": [
        {
          "data": {
            "text/html": [
              "\n",
              "  <div id=\"df-7e8b270a-9266-4a69-b349-71e421500a6c\">\n",
              "    <div class=\"colab-df-container\">\n",
              "      <div>\n",
              "<style scoped>\n",
              "    .dataframe tbody tr th:only-of-type {\n",
              "        vertical-align: middle;\n",
              "    }\n",
              "\n",
              "    .dataframe tbody tr th {\n",
              "        vertical-align: top;\n",
              "    }\n",
              "\n",
              "    .dataframe thead th {\n",
              "        text-align: right;\n",
              "    }\n",
              "</style>\n",
              "<table border=\"1\" class=\"dataframe\">\n",
              "  <thead>\n",
              "    <tr style=\"text-align: right;\">\n",
              "      <th></th>\n",
              "      <th>units</th>\n",
              "      <th>weight</th>\n",
              "      <th>material_handling</th>\n",
              "      <th>weight_class</th>\n",
              "      <th>distance</th>\n",
              "    </tr>\n",
              "  </thead>\n",
              "  <tbody>\n",
              "    <tr>\n",
              "      <th>units</th>\n",
              "      <td>1.000000</td>\n",
              "      <td>-0.008116</td>\n",
              "      <td>-0.002339</td>\n",
              "      <td>-0.007098</td>\n",
              "      <td>-0.001315</td>\n",
              "    </tr>\n",
              "    <tr>\n",
              "      <th>weight</th>\n",
              "      <td>-0.008116</td>\n",
              "      <td>1.000000</td>\n",
              "      <td>0.016130</td>\n",
              "      <td>0.975734</td>\n",
              "      <td>0.003726</td>\n",
              "    </tr>\n",
              "    <tr>\n",
              "      <th>material_handling</th>\n",
              "      <td>-0.002339</td>\n",
              "      <td>0.016130</td>\n",
              "      <td>1.000000</td>\n",
              "      <td>0.010321</td>\n",
              "      <td>0.001832</td>\n",
              "    </tr>\n",
              "    <tr>\n",
              "      <th>weight_class</th>\n",
              "      <td>-0.007098</td>\n",
              "      <td>0.975734</td>\n",
              "      <td>0.010321</td>\n",
              "      <td>1.000000</td>\n",
              "      <td>0.004326</td>\n",
              "    </tr>\n",
              "    <tr>\n",
              "      <th>distance</th>\n",
              "      <td>-0.001315</td>\n",
              "      <td>0.003726</td>\n",
              "      <td>0.001832</td>\n",
              "      <td>0.004326</td>\n",
              "      <td>1.000000</td>\n",
              "    </tr>\n",
              "  </tbody>\n",
              "</table>\n",
              "</div>\n",
              "      <button class=\"colab-df-convert\" onclick=\"convertToInteractive('df-7e8b270a-9266-4a69-b349-71e421500a6c')\"\n",
              "              title=\"Convert this dataframe to an interactive table.\"\n",
              "              style=\"display:none;\">\n",
              "        \n",
              "  <svg xmlns=\"http://www.w3.org/2000/svg\" height=\"24px\"viewBox=\"0 0 24 24\"\n",
              "       width=\"24px\">\n",
              "    <path d=\"M0 0h24v24H0V0z\" fill=\"none\"/>\n",
              "    <path d=\"M18.56 5.44l.94 2.06.94-2.06 2.06-.94-2.06-.94-.94-2.06-.94 2.06-2.06.94zm-11 1L8.5 8.5l.94-2.06 2.06-.94-2.06-.94L8.5 2.5l-.94 2.06-2.06.94zm10 10l.94 2.06.94-2.06 2.06-.94-2.06-.94-.94-2.06-.94 2.06-2.06.94z\"/><path d=\"M17.41 7.96l-1.37-1.37c-.4-.4-.92-.59-1.43-.59-.52 0-1.04.2-1.43.59L10.3 9.45l-7.72 7.72c-.78.78-.78 2.05 0 2.83L4 21.41c.39.39.9.59 1.41.59.51 0 1.02-.2 1.41-.59l7.78-7.78 2.81-2.81c.8-.78.8-2.07 0-2.86zM5.41 20L4 18.59l7.72-7.72 1.47 1.35L5.41 20z\"/>\n",
              "  </svg>\n",
              "      </button>\n",
              "      \n",
              "  <style>\n",
              "    .colab-df-container {\n",
              "      display:flex;\n",
              "      flex-wrap:wrap;\n",
              "      gap: 12px;\n",
              "    }\n",
              "\n",
              "    .colab-df-convert {\n",
              "      background-color: #E8F0FE;\n",
              "      border: none;\n",
              "      border-radius: 50%;\n",
              "      cursor: pointer;\n",
              "      display: none;\n",
              "      fill: #1967D2;\n",
              "      height: 32px;\n",
              "      padding: 0 0 0 0;\n",
              "      width: 32px;\n",
              "    }\n",
              "\n",
              "    .colab-df-convert:hover {\n",
              "      background-color: #E2EBFA;\n",
              "      box-shadow: 0px 1px 2px rgba(60, 64, 67, 0.3), 0px 1px 3px 1px rgba(60, 64, 67, 0.15);\n",
              "      fill: #174EA6;\n",
              "    }\n",
              "\n",
              "    [theme=dark] .colab-df-convert {\n",
              "      background-color: #3B4455;\n",
              "      fill: #D2E3FC;\n",
              "    }\n",
              "\n",
              "    [theme=dark] .colab-df-convert:hover {\n",
              "      background-color: #434B5C;\n",
              "      box-shadow: 0px 1px 3px 1px rgba(0, 0, 0, 0.15);\n",
              "      filter: drop-shadow(0px 1px 2px rgba(0, 0, 0, 0.3));\n",
              "      fill: #FFFFFF;\n",
              "    }\n",
              "  </style>\n",
              "\n",
              "      <script>\n",
              "        const buttonEl =\n",
              "          document.querySelector('#df-7e8b270a-9266-4a69-b349-71e421500a6c button.colab-df-convert');\n",
              "        buttonEl.style.display =\n",
              "          google.colab.kernel.accessAllowed ? 'block' : 'none';\n",
              "\n",
              "        async function convertToInteractive(key) {\n",
              "          const element = document.querySelector('#df-7e8b270a-9266-4a69-b349-71e421500a6c');\n",
              "          const dataTable =\n",
              "            await google.colab.kernel.invokeFunction('convertToInteractive',\n",
              "                                                     [key], {});\n",
              "          if (!dataTable) return;\n",
              "\n",
              "          const docLinkHtml = 'Like what you see? Visit the ' +\n",
              "            '<a target=\"_blank\" href=https://colab.research.google.com/notebooks/data_table.ipynb>data table notebook</a>'\n",
              "            + ' to learn more about interactive tables.';\n",
              "          element.innerHTML = '';\n",
              "          dataTable['output_type'] = 'display_data';\n",
              "          await google.colab.output.renderOutput(dataTable, element);\n",
              "          const docLink = document.createElement('div');\n",
              "          docLink.innerHTML = docLinkHtml;\n",
              "          element.appendChild(docLink);\n",
              "        }\n",
              "      </script>\n",
              "    </div>\n",
              "  </div>\n",
              "  "
            ],
            "text/plain": [
              "                      units    weight  material_handling  weight_class  \\\n",
              "units              1.000000 -0.008116          -0.002339     -0.007098   \n",
              "weight            -0.008116  1.000000           0.016130      0.975734   \n",
              "material_handling -0.002339  0.016130           1.000000      0.010321   \n",
              "weight_class      -0.007098  0.975734           0.010321      1.000000   \n",
              "distance          -0.001315  0.003726           0.001832      0.004326   \n",
              "\n",
              "                   distance  \n",
              "units             -0.001315  \n",
              "weight             0.003726  \n",
              "material_handling  0.001832  \n",
              "weight_class       0.004326  \n",
              "distance           1.000000  "
            ]
          },
          "execution_count": 21,
          "metadata": {},
          "output_type": "execute_result"
        }
      ],
      "source": [
        "df_corr= df_new[cols].corr()\n",
        "df_corr"
      ]
    },
    {
      "cell_type": "markdown",
      "metadata": {
        "id": "HCzn6H_f2NwD"
      },
      "source": [
        "### Thus, none of the selected features are higly correlated, eliminating the problem of multi collinearity."
      ]
    },
    {
      "cell_type": "code",
      "execution_count": null,
      "metadata": {
        "colab": {
          "base_uri": "https://localhost:8080/"
        },
        "id": "cdaLgZbf2NwE",
        "outputId": "c9566f6c-b0c6-49c6-e7cd-14571acf978d"
      },
      "outputs": [
        {
          "data": {
            "text/plain": [
              "{'customs_procedures', 'origin_port', 'pl'}"
            ]
          },
          "execution_count": 22,
          "metadata": {},
          "output_type": "execute_result"
        }
      ],
      "source": [
        "set(cols)-set(df_corr.index)"
      ]
    },
    {
      "cell_type": "code",
      "execution_count": null,
      "metadata": {
        "colab": {
          "base_uri": "https://localhost:8080/",
          "height": 270
        },
        "id": "r4GuUCQl2NwF",
        "outputId": "87466876-2dd1-47bd-bf51-fd8fca9215e7"
      },
      "outputs": [
        {
          "data": {
            "text/html": [
              "\n",
              "  <div id=\"df-a5573e1b-e6a3-4c39-b032-c5a29e1773bf\">\n",
              "    <div class=\"colab-df-container\">\n",
              "      <div>\n",
              "<style scoped>\n",
              "    .dataframe tbody tr th:only-of-type {\n",
              "        vertical-align: middle;\n",
              "    }\n",
              "\n",
              "    .dataframe tbody tr th {\n",
              "        vertical-align: top;\n",
              "    }\n",
              "\n",
              "    .dataframe thead th {\n",
              "        text-align: right;\n",
              "    }\n",
              "</style>\n",
              "<table border=\"1\" class=\"dataframe\">\n",
              "  <thead>\n",
              "    <tr style=\"text-align: right;\">\n",
              "      <th></th>\n",
              "      <th>Actual</th>\n",
              "      <th>Predicted</th>\n",
              "      <th>Residuals</th>\n",
              "    </tr>\n",
              "  </thead>\n",
              "  <tbody>\n",
              "    <tr>\n",
              "      <th>92717</th>\n",
              "      <td>0</td>\n",
              "      <td>0.414433</td>\n",
              "      <td>-0.414433</td>\n",
              "    </tr>\n",
              "    <tr>\n",
              "      <th>37626</th>\n",
              "      <td>0</td>\n",
              "      <td>-0.052431</td>\n",
              "      <td>0.052431</td>\n",
              "    </tr>\n",
              "    <tr>\n",
              "      <th>104060</th>\n",
              "      <td>0</td>\n",
              "      <td>0.342121</td>\n",
              "      <td>-0.342121</td>\n",
              "    </tr>\n",
              "    <tr>\n",
              "      <th>95472</th>\n",
              "      <td>0</td>\n",
              "      <td>0.271713</td>\n",
              "      <td>-0.271713</td>\n",
              "    </tr>\n",
              "    <tr>\n",
              "      <th>25245</th>\n",
              "      <td>0</td>\n",
              "      <td>0.222281</td>\n",
              "      <td>-0.222281</td>\n",
              "    </tr>\n",
              "  </tbody>\n",
              "</table>\n",
              "</div>\n",
              "      <button class=\"colab-df-convert\" onclick=\"convertToInteractive('df-a5573e1b-e6a3-4c39-b032-c5a29e1773bf')\"\n",
              "              title=\"Convert this dataframe to an interactive table.\"\n",
              "              style=\"display:none;\">\n",
              "        \n",
              "  <svg xmlns=\"http://www.w3.org/2000/svg\" height=\"24px\"viewBox=\"0 0 24 24\"\n",
              "       width=\"24px\">\n",
              "    <path d=\"M0 0h24v24H0V0z\" fill=\"none\"/>\n",
              "    <path d=\"M18.56 5.44l.94 2.06.94-2.06 2.06-.94-2.06-.94-.94-2.06-.94 2.06-2.06.94zm-11 1L8.5 8.5l.94-2.06 2.06-.94-2.06-.94L8.5 2.5l-.94 2.06-2.06.94zm10 10l.94 2.06.94-2.06 2.06-.94-2.06-.94-.94-2.06-.94 2.06-2.06.94z\"/><path d=\"M17.41 7.96l-1.37-1.37c-.4-.4-.92-.59-1.43-.59-.52 0-1.04.2-1.43.59L10.3 9.45l-7.72 7.72c-.78.78-.78 2.05 0 2.83L4 21.41c.39.39.9.59 1.41.59.51 0 1.02-.2 1.41-.59l7.78-7.78 2.81-2.81c.8-.78.8-2.07 0-2.86zM5.41 20L4 18.59l7.72-7.72 1.47 1.35L5.41 20z\"/>\n",
              "  </svg>\n",
              "      </button>\n",
              "      \n",
              "  <style>\n",
              "    .colab-df-container {\n",
              "      display:flex;\n",
              "      flex-wrap:wrap;\n",
              "      gap: 12px;\n",
              "    }\n",
              "\n",
              "    .colab-df-convert {\n",
              "      background-color: #E8F0FE;\n",
              "      border: none;\n",
              "      border-radius: 50%;\n",
              "      cursor: pointer;\n",
              "      display: none;\n",
              "      fill: #1967D2;\n",
              "      height: 32px;\n",
              "      padding: 0 0 0 0;\n",
              "      width: 32px;\n",
              "    }\n",
              "\n",
              "    .colab-df-convert:hover {\n",
              "      background-color: #E2EBFA;\n",
              "      box-shadow: 0px 1px 2px rgba(60, 64, 67, 0.3), 0px 1px 3px 1px rgba(60, 64, 67, 0.15);\n",
              "      fill: #174EA6;\n",
              "    }\n",
              "\n",
              "    [theme=dark] .colab-df-convert {\n",
              "      background-color: #3B4455;\n",
              "      fill: #D2E3FC;\n",
              "    }\n",
              "\n",
              "    [theme=dark] .colab-df-convert:hover {\n",
              "      background-color: #434B5C;\n",
              "      box-shadow: 0px 1px 3px 1px rgba(0, 0, 0, 0.15);\n",
              "      filter: drop-shadow(0px 1px 2px rgba(0, 0, 0, 0.3));\n",
              "      fill: #FFFFFF;\n",
              "    }\n",
              "  </style>\n",
              "\n",
              "      <script>\n",
              "        const buttonEl =\n",
              "          document.querySelector('#df-a5573e1b-e6a3-4c39-b032-c5a29e1773bf button.colab-df-convert');\n",
              "        buttonEl.style.display =\n",
              "          google.colab.kernel.accessAllowed ? 'block' : 'none';\n",
              "\n",
              "        async function convertToInteractive(key) {\n",
              "          const element = document.querySelector('#df-a5573e1b-e6a3-4c39-b032-c5a29e1773bf');\n",
              "          const dataTable =\n",
              "            await google.colab.kernel.invokeFunction('convertToInteractive',\n",
              "                                                     [key], {});\n",
              "          if (!dataTable) return;\n",
              "\n",
              "          const docLinkHtml = 'Like what you see? Visit the ' +\n",
              "            '<a target=\"_blank\" href=https://colab.research.google.com/notebooks/data_table.ipynb>data table notebook</a>'\n",
              "            + ' to learn more about interactive tables.';\n",
              "          element.innerHTML = '';\n",
              "          dataTable['output_type'] = 'display_data';\n",
              "          await google.colab.output.renderOutput(dataTable, element);\n",
              "          const docLink = document.createElement('div');\n",
              "          docLink.innerHTML = docLinkHtml;\n",
              "          element.appendChild(docLink);\n",
              "        }\n",
              "      </script>\n",
              "    </div>\n",
              "  </div>\n",
              "  "
            ],
            "text/plain": [
              "        Actual  Predicted  Residuals\n",
              "92717        0   0.414433  -0.414433\n",
              "37626        0  -0.052431   0.052431\n",
              "104060       0   0.342121  -0.342121\n",
              "95472        0   0.271713  -0.271713\n",
              "25245        0   0.222281  -0.222281"
            ]
          },
          "execution_count": 23,
          "metadata": {},
          "output_type": "execute_result"
        }
      ],
      "source": [
        "df_temp=df_new.sample(50000)\n",
        "tdf = df_temp[cols]\n",
        "df_fitted_vs_actual = pd.DataFrame()\n",
        "df_fitted_vs_actual['Actual'] = df_temp['late_order']\n",
        "df_fitted_vs_actual['Predicted'] = result.predict(exog = tdf)\n",
        "df_fitted_vs_actual['Residuals'] = df_fitted_vs_actual['Actual']-df_fitted_vs_actual['Predicted']\n",
        "df_fitted_vs_actual.head()"
      ]
    },
    {
      "cell_type": "code",
      "execution_count": null,
      "metadata": {
        "colab": {
          "base_uri": "https://localhost:8080/",
          "height": 106
        },
        "id": "YzT0i8I62NwG",
        "outputId": "34882755-063d-49bb-b025-c09a8a621bb2"
      },
      "outputs": [
        {
          "data": {
            "text/plain": [
              "<matplotlib.collections.PathCollection at 0x7f19c1c709d0>"
            ]
          },
          "execution_count": 24,
          "metadata": {},
          "output_type": "execute_result"
        },
        {
          "data": {
            "image/png": "[encoded data removed]",
            "text/plain": [
              "<Figure size 720x720 with 1 Axes>"
            ]
          },
          "metadata": {},
          "output_type": "display_data"
        }
      ],
      "source": [
        "plt.figure(figsize=(10,10))\n",
        "plt.xlim(-3,3)\n",
        "plt.ylim(-3, 3)\n",
        "plt.xlabel(\"Fitted\")\n",
        "plt.ylabel(\"Residuals\")\n",
        "plt.scatter(df_fitted_vs_actual['Predicted'],df_fitted_vs_actual['Residuals'])"
      ]
    },
    {
      "cell_type": "markdown",
      "metadata": {
        "id": "5JRwu4zM2NwG"
      },
      "source": [
        "### For finding the model with interactions. Though each of the factors are not correlated to each other, there might be some interactions that can give a better reasoning for delay. This can be explored by trying all the possible interactions."
      ]
    },
    {
      "cell_type": "code",
      "execution_count": null,
      "metadata": {
        "id": "pjMYtOlk2NwH"
      },
      "outputs": [],
      "source": [
        "from itertools import combinations_with_replacement \n",
        "cols=['origin_port','pl','customs_procedures','units','weight','material_handling','weight_class','distance']\n",
        "comb_1=combinations_with_replacement(cols, 1)\n",
        "comb_2 = combinations_with_replacement(cols, 2)\n",
        "all_comb = list(comb_1)+list(comb_2)"
      ]
    },
    {
      "cell_type": "markdown",
      "metadata": {
        "id": "LKcwtGch2NwI"
      },
      "source": [
        "### We are using adjusted r2 as the metric to include a term in the model or not. If there is an increase in the adjusted r2 value, the term is included, otherwise the term is ignored."
      ]
    },
    {
      "cell_type": "code",
      "execution_count": null,
      "metadata": {
        "colab": {
          "background_save": true
        },
        "id": "O8F7Iwvk2NwI"
      },
      "outputs": [],
      "source": [
        "adjusted_r2=[]\n",
        "appended_comb = []\n",
        "ignored_comb = []\n",
        "formula_string = 'late_order ~ '\n",
        "for comb in all_comb:\n",
        "    temp_string = formula_string\n",
        "    if(len(comb)==1):\n",
        "        formula_string += ' + '+ comb[0]\n",
        "        \n",
        "    elif(len(comb)==2):\n",
        "        if(comb[0]==comb[1]):\n",
        "            formula_string += ' + '+comb[0]+'**'+'2'\n",
        "        else:\n",
        "            formula_string +=' + '+comb[0] +'*'+ comb[1]\n",
        "\n",
        "    result = sm.ols(formula=formula_string , data=df_temp).fit()\n",
        "    if(len(adjusted_r2)<1):\n",
        "        adjusted_r2.append(result.rsquared_adj)\n",
        "        appended_comb.append(comb)\n",
        "    else:\n",
        "        if(adjusted_r2[-1]>result.rsquared_adj):\n",
        "            ignored_comb.append(comb)\n",
        "            formula_string=temp_string\n",
        "        else:\n",
        "            appended_comb.append(comb)\n",
        "            adjusted_r2.append(result.rsquared_adj)"
      ]
    },
    {
      "cell_type": "code",
      "execution_count": null,
      "metadata": {
        "colab": {
          "background_save": true
        },
        "id": "qKAt4l6l2NwJ",
        "outputId": "413be72f-66be-4bc4-8672-8e4eee9bd058"
      },
      "outputs": [
        {
          "data": {
            "text/plain": [
              "[('origin_port', 'material_handling'),\n",
              " ('pl', 'units'),\n",
              " ('pl', 'weight'),\n",
              " ('pl', 'material_handling'),\n",
              " ('pl', 'weight_class'),\n",
              " ('customs_procedures', 'weight'),\n",
              " ('customs_procedures', 'material_handling'),\n",
              " ('customs_procedures', 'weight_class'),\n",
              " ('units', 'material_handling'),\n",
              " ('material_handling', 'distance')]"
            ]
          },
          "execution_count": 27,
          "metadata": {},
          "output_type": "execute_result"
        }
      ],
      "source": [
        "ignored_comb"
      ]
    },
    {
      "cell_type": "code",
      "execution_count": null,
      "metadata": {
        "colab": {
          "background_save": true
        },
        "id": "0E0T5FrQ2NwK",
        "outputId": "84eb9207-dbe4-4544-96d3-a764af234c08"
      },
      "outputs": [
        {
          "data": {
            "text/plain": [
              "Text(0, 0.5, 'Adjusted R2')"
            ]
          },
          "execution_count": 28,
          "metadata": {},
          "output_type": "execute_result"
        },
        {
          "data": {
            "image/png": "[encoded data removed]",
            "text/plain": [
              "<Figure size 576x576 with 1 Axes>"
            ]
          },
          "metadata": {},
          "output_type": "display_data"
        }
      ],
      "source": [
        "plt.figure(figsize=(8,8))\n",
        "plt.plot(range(1,len(adjusted_r2)+1),adjusted_r2)\n",
        "plt.xlabel(\"Number of Significant Terms\")\n",
        "plt.ylabel(\"Adjusted R2\")"
      ]
    },
    {
      "cell_type": "code",
      "execution_count": null,
      "metadata": {
        "colab": {
          "background_save": true
        },
        "id": "z25GAFqd2NwL"
      },
      "outputs": [],
      "source": [
        "# With the final formula string\n",
        "result = sm.ols(formula=formula_string , data=df_temp).fit()"
      ]
    },
    {
      "cell_type": "code",
      "execution_count": null,
      "metadata": {
        "colab": {
          "background_save": true
        },
        "id": "_qY9BQu02NwN",
        "outputId": "3f748656-7236-43dd-eef0-18b0bfed2915"
      },
      "outputs": [
        {
          "data": {
            "text/plain": [
              "35"
            ]
          },
          "execution_count": 30,
          "metadata": {},
          "output_type": "execute_result"
        }
      ],
      "source": [
        "significant_factors = result.params[(result.tvalues<-1.96)].index\n",
        "significant_factors= significant_factors.append(result.params[(result.tvalues>1.96)].index)\n",
        "len(significant_factors)"
      ]
    },
    {
      "cell_type": "code",
      "execution_count": null,
      "metadata": {
        "colab": {
          "background_save": true
        },
        "id": "-BWkEJMn2NwP",
        "outputId": "ee53e130-d2c0-4c35-b5bb-55e7fb833fd3"
      },
      "outputs": [
        {
          "data": {
            "text/plain": [
              "17"
            ]
          },
          "execution_count": 31,
          "metadata": {},
          "output_type": "execute_result"
        }
      ],
      "source": [
        "insignificant_factors = list(set(result.params.index) - set(significant_factors))\n",
        "len(insignificant_factors)"
      ]
    },
    {
      "cell_type": "code",
      "execution_count": null,
      "metadata": {
        "colab": {
          "background_save": true
        },
        "id": "hRv_aELC2NwP",
        "outputId": "7d4013f1-4792-4e17-c320-46d12afc5105"
      },
      "outputs": [
        {
          "data": {
            "text/plain": [
              "Index(['origin_port[T.Barcelona]', 'origin_port[T.Rotterdam]', 'pl[T.v_002]',\n",
              "       'pl[T.v_003]', 'pl[T.v_004]',\n",
              "       'origin_port[T.Rotterdam]:customs_procedures[T.DTD]',\n",
              "       'origin_port[T.Barcelona]:customs_procedures[T.DTP]',\n",
              "       'origin_port[T.Rotterdam]:customs_procedures[T.DTP]',\n",
              "       'pl[T.v_002]:customs_procedures[T.DTD]', 'units', 'weight',\n",
              "       'weight_class', 'origin_port[T.Barcelona]:weight_class',\n",
              "       'origin_port[T.Rotterdam]:weight_class',\n",
              "       'origin_port[T.Barcelona]:distance',\n",
              "       'origin_port[T.Rotterdam]:distance', 'pl[T.v_002]:distance',\n",
              "       'weight:material_handling', 'weight:distance', 'Intercept',\n",
              "       'customs_procedures[T.DTD]', 'customs_procedures[T.DTP]',\n",
              "       'origin_port[T.Rotterdam]:pl[T.v_002]',\n",
              "       'origin_port[T.Barcelona]:pl[T.v_003]',\n",
              "       'origin_port[T.Rotterdam]:pl[T.v_003]',\n",
              "       'origin_port[T.Rotterdam]:pl[T.v_004]',\n",
              "       'origin_port[T.Barcelona]:weight', 'origin_port[T.Rotterdam]:weight',\n",
              "       'distance', 'customs_procedures[T.DTP]:distance', 'units:weight',\n",
              "       'units:weight_class', 'weight:weight_class',\n",
              "       'material_handling:weight_class', 'weight_class:distance'],\n",
              "      dtype='object')"
            ]
          },
          "execution_count": 32,
          "metadata": {},
          "output_type": "execute_result"
        }
      ],
      "source": [
        "significant_factors"
      ]
    },
    {
      "cell_type": "code",
      "execution_count": null,
      "metadata": {
        "colab": {
          "background_save": true
        },
        "id": "LPnkzXEK2NwQ",
        "outputId": "ee727b74-b075-41e8-a173-a4eb3efd8661"
      },
      "outputs": [
        {
          "data": {
            "text/plain": [
              "['pl[T.v_004]:customs_procedures[T.DTP]',\n",
              " 'origin_port[T.Barcelona]:units',\n",
              " 'customs_procedures[T.DTP]:units',\n",
              " 'pl[T.v_003]:distance',\n",
              " 'pl[T.v_002]:customs_procedures[T.DTP]',\n",
              " 'origin_port[T.Barcelona]:pl[T.v_004]',\n",
              " 'customs_procedures[T.DTD]:distance',\n",
              " 'pl[T.v_003]:customs_procedures[T.DTD]',\n",
              " 'units:distance',\n",
              " 'pl[T.v_004]:distance',\n",
              " 'customs_procedures[T.DTD]:units',\n",
              " 'origin_port[T.Barcelona]:customs_procedures[T.DTD]',\n",
              " 'material_handling',\n",
              " 'pl[T.v_004]:customs_procedures[T.DTD]',\n",
              " 'pl[T.v_003]:customs_procedures[T.DTP]',\n",
              " 'origin_port[T.Barcelona]:pl[T.v_002]',\n",
              " 'origin_port[T.Rotterdam]:units']"
            ]
          },
          "execution_count": 33,
          "metadata": {},
          "output_type": "execute_result"
        }
      ],
      "source": [
        "insignificant_factors"
      ]
    },
    {
      "cell_type": "code",
      "execution_count": null,
      "metadata": {
        "colab": {
          "background_save": true
        },
        "id": "7_XFJcgj2NwR",
        "outputId": "5851f944-9429-4723-ce2c-6e6b3466e78f"
      },
      "outputs": [
        {
          "data": {
            "text/plain": [
              "weight:weight_class                                   65.879644\n",
              "Intercept                                             24.047126\n",
              "units                                                 16.104026\n",
              "weight_class                                          14.329462\n",
              "pl[T.v_002]                                            8.881718\n",
              "units:weight_class                                     8.755725\n",
              "origin_port[T.Rotterdam]                               7.922142\n",
              "pl[T.v_004]                                            6.903751\n",
              "pl[T.v_003]                                            6.264722\n",
              "weight                                                 6.190482\n",
              "origin_port[T.Rotterdam]:customs_procedures[T.DTP]     6.113161\n",
              "material_handling:weight_class                         5.345779\n",
              "origin_port[T.Barcelona]                               5.022507\n",
              "origin_port[T.Rotterdam]:pl[T.v_002]                   4.507589\n",
              "origin_port[T.Rotterdam]:weight                        4.368179\n",
              "units:weight                                           4.265762\n",
              "weight:material_handling                               3.848059\n",
              "distance                                               3.694752\n",
              "origin_port[T.Rotterdam]:weight_class                  3.471624\n",
              "origin_port[T.Rotterdam]:pl[T.v_003]                   3.246680\n",
              "customs_procedures[T.DTP]:distance                     3.235616\n",
              "origin_port[T.Barcelona]:weight                        3.173301\n",
              "weight:distance                                        3.133802\n",
              "origin_port[T.Barcelona]:pl[T.v_003]                   3.015895\n",
              "origin_port[T.Rotterdam]:customs_procedures[T.DTD]     2.821761\n",
              "origin_port[T.Rotterdam]:pl[T.v_004]                   2.723858\n",
              "origin_port[T.Barcelona]:weight_class                  2.692417\n",
              "origin_port[T.Rotterdam]:distance                      2.656903\n",
              "customs_procedures[T.DTP]                              2.625135\n",
              "origin_port[T.Barcelona]:customs_procedures[T.DTP]     2.569726\n",
              "weight_class:distance                                  2.524722\n",
              "pl[T.v_002]:distance                                   2.498369\n",
              "pl[T.v_002]:customs_procedures[T.DTD]                  2.444154\n",
              "origin_port[T.Barcelona]:distance                      2.264807\n",
              "customs_procedures[T.DTD]                              2.170635\n",
              "origin_port[T.Barcelona]:pl[T.v_004]                   1.892547\n",
              "units:distance                                         1.739717\n",
              "pl[T.v_004]:customs_procedures[T.DTD]                  1.612825\n",
              "origin_port[T.Barcelona]:units                         1.526439\n",
              "origin_port[T.Barcelona]:pl[T.v_002]                   1.404703\n",
              "customs_procedures[T.DTD]:units                        1.131368\n",
              "customs_procedures[T.DTP]:units                        1.027495\n",
              "pl[T.v_002]:customs_procedures[T.DTP]                  0.842223\n",
              "pl[T.v_003]:customs_procedures[T.DTD]                  0.777572\n",
              "pl[T.v_004]:distance                                   0.717040\n",
              "origin_port[T.Barcelona]:customs_procedures[T.DTD]     0.519316\n",
              "customs_procedures[T.DTD]:distance                     0.457733\n",
              "pl[T.v_003]:distance                                   0.449532\n",
              "pl[T.v_003]:customs_procedures[T.DTP]                  0.220626\n",
              "material_handling                                      0.209448\n",
              "origin_port[T.Rotterdam]:units                         0.206159\n",
              "pl[T.v_004]:customs_procedures[T.DTP]                  0.004328\n",
              "dtype: float64"
            ]
          },
          "execution_count": 34,
          "metadata": {},
          "output_type": "execute_result"
        }
      ],
      "source": [
        "tvalues = result.tvalues\n",
        "tvalues = abs(tvalues)\n",
        "tvalues.sort_values(ascending=False)[:53]"
      ]
    },
    {
      "cell_type": "markdown",
      "metadata": {
        "id": "Mr9H_YJp2NwS"
      },
      "source": [
        "### Weight and weight class are associated to each other and together act as a significance cause for the late in delivery\n",
        "### Units and weight class are directly related. They both  play an important role in late delivery.\n",
        "### Units and weight class are directly related. They both  play an important role in late delivery.\n",
        "### Units and distance are directly related. They both play an important role in late delivery.\n",
        "### Weight and distance are directly related. They both play an important role in late delivery.\n",
        "### Material Handeling and weight class are directly related.\n",
        "### Weight, material handeling, units distance taken self are highly impacting late delivery."
      ]
    },
    {
      "cell_type": "markdown",
      "metadata": {
        "id": "dI9dKR0s2NwS"
      },
      "source": [
        "### Classification - Decision Tree and Logistic Classification¶ In this scenario, we would like to develop a model to check the prediction of delay , just based on order attributes, without considering the time delays. This might aid in developing better recommendations/ rule for planning the deliveries.\n",
        "\n",
        "Therefore, a supervised learning - classification approach was used to develop a model."
      ]
    },
    {
      "cell_type": "code",
      "execution_count": null,
      "metadata": {
        "colab": {
          "background_save": true
        },
        "id": "_buZvtyt2NwT"
      },
      "outputs": [],
      "source": [
        "# Machine Learning\n",
        "df_classification=df_new.drop(['3pl'],axis=1)"
      ]
    },
    {
      "cell_type": "code",
      "execution_count": null,
      "metadata": {
        "colab": {
          "background_save": true
        },
        "id": "UidB6uyf2NwU",
        "outputId": "9843bf3d-36d1-4d6d-fdf9-9773d02d8fa4"
      },
      "outputs": [
        {
          "data": {
            "text/plain": [
              "Index(['Unnamed: 0', 'order_id', 'origin_port', 'customs_procedures',\n",
              "       'logistic_hub', 'customer', 'product_id', 'units', 'late_order',\n",
              "       'weight', 'material_handling', 'weight_class', 'city_from_name',\n",
              "       'city_to_name', 'city_from_coord', 'city_to_coord', 'distance',\n",
              "       'cost_per_unit', 'co2_per_unit', 'pl'],\n",
              "      dtype='object')"
            ]
          },
          "execution_count": 36,
          "metadata": {},
          "output_type": "execute_result"
        }
      ],
      "source": [
        "df_classification.columns"
      ]
    },
    {
      "cell_type": "code",
      "execution_count": null,
      "metadata": {
        "colab": {
          "background_save": true
        },
        "id": "z_g6SPjh2NwV",
        "outputId": "883f5549-4253-4fdb-8fa4-ae713104fc31"
      },
      "outputs": [
        {
          "data": {
            "text/plain": [
              "111627"
            ]
          },
          "execution_count": 37,
          "metadata": {},
          "output_type": "execute_result"
        }
      ],
      "source": [
        "len(df_classification)"
      ]
    },
    {
      "cell_type": "code",
      "execution_count": null,
      "metadata": {
        "colab": {
          "background_save": true
        },
        "id": "Lh8p21Wv2NwX",
        "outputId": "d93100fc-08d5-4067-877e-5ee57a96eb94"
      },
      "outputs": [
        {
          "name": "stdout",
          "output_type": "stream",
          "text": [
            "Number of deliveries in time 85145\n",
            "Number of deliveries late 26482\n"
          ]
        },
        {
          "name": "stderr",
          "output_type": "stream",
          "text": [
            "/usr/local/lib/python3.7/dist-packages/ipykernel_launcher.py:1: UserWarning: Boolean Series key will be reindexed to match DataFrame index.\n",
            "  \"\"\"Entry point for launching an IPython kernel.\n",
            "/usr/local/lib/python3.7/dist-packages/ipykernel_launcher.py:2: UserWarning: Boolean Series key will be reindexed to match DataFrame index.\n",
            "  \n"
          ]
        },
        {
          "data": {
            "text/html": [
              "\n",
              "  <div id=\"df-4217078e-afc9-4150-93e8-ea902d5479d6\">\n",
              "    <div class=\"colab-df-container\">\n",
              "      <div>\n",
              "<style scoped>\n",
              "    .dataframe tbody tr th:only-of-type {\n",
              "        vertical-align: middle;\n",
              "    }\n",
              "\n",
              "    .dataframe tbody tr th {\n",
              "        vertical-align: top;\n",
              "    }\n",
              "\n",
              "    .dataframe thead th {\n",
              "        text-align: right;\n",
              "    }\n",
              "</style>\n",
              "<table border=\"1\" class=\"dataframe\">\n",
              "  <thead>\n",
              "    <tr style=\"text-align: right;\">\n",
              "      <th></th>\n",
              "      <th>Unnamed: 0</th>\n",
              "      <th>order_id</th>\n",
              "      <th>origin_port</th>\n",
              "      <th>customs_procedures</th>\n",
              "      <th>logistic_hub</th>\n",
              "      <th>customer</th>\n",
              "      <th>product_id</th>\n",
              "      <th>units</th>\n",
              "      <th>late_order</th>\n",
              "      <th>weight</th>\n",
              "      <th>material_handling</th>\n",
              "      <th>weight_class</th>\n",
              "      <th>city_from_name</th>\n",
              "      <th>city_to_name</th>\n",
              "      <th>city_from_coord</th>\n",
              "      <th>city_to_coord</th>\n",
              "      <th>distance</th>\n",
              "      <th>cost_per_unit</th>\n",
              "      <th>co2_per_unit</th>\n",
              "      <th>pl</th>\n",
              "    </tr>\n",
              "  </thead>\n",
              "  <tbody>\n",
              "    <tr>\n",
              "      <th>0</th>\n",
              "      <td>0</td>\n",
              "      <td>c4660f1a2508</td>\n",
              "      <td>Barcelona</td>\n",
              "      <td>DTD</td>\n",
              "      <td>Bratislava</td>\n",
              "      <td>Amsterdam</td>\n",
              "      <td>1650404</td>\n",
              "      <td>492</td>\n",
              "      <td>0</td>\n",
              "      <td>565.0</td>\n",
              "      <td>4.0</td>\n",
              "      <td>0.0</td>\n",
              "      <td>Bratislava</td>\n",
              "      <td>Amsterdam</td>\n",
              "      <td>(48.1516988, 17.1093063)</td>\n",
              "      <td>(52.3727598, 4.8936041)</td>\n",
              "      <td>987.7402</td>\n",
              "      <td>382.77</td>\n",
              "      <td>666.72</td>\n",
              "      <td>v_004</td>\n",
              "    </tr>\n",
              "    <tr>\n",
              "      <th>2</th>\n",
              "      <td>2</td>\n",
              "      <td>797bf1dc596a</td>\n",
              "      <td>Rotterdam</td>\n",
              "      <td>CRF</td>\n",
              "      <td>Bratislava</td>\n",
              "      <td>Amsterdam</td>\n",
              "      <td>1657474</td>\n",
              "      <td>455</td>\n",
              "      <td>0</td>\n",
              "      <td>598.0</td>\n",
              "      <td>5.0</td>\n",
              "      <td>0.0</td>\n",
              "      <td>Bratislava</td>\n",
              "      <td>Amsterdam</td>\n",
              "      <td>(48.1516988, 17.1093063)</td>\n",
              "      <td>(52.3727598, 4.8936041)</td>\n",
              "      <td>987.7402</td>\n",
              "      <td>382.77</td>\n",
              "      <td>666.72</td>\n",
              "      <td>v_004</td>\n",
              "    </tr>\n",
              "    <tr>\n",
              "      <th>3</th>\n",
              "      <td>3</td>\n",
              "      <td>7a0abc024004</td>\n",
              "      <td>Rotterdam</td>\n",
              "      <td>CRF</td>\n",
              "      <td>Bratislava</td>\n",
              "      <td>Amsterdam</td>\n",
              "      <td>1657474</td>\n",
              "      <td>471</td>\n",
              "      <td>0</td>\n",
              "      <td>598.0</td>\n",
              "      <td>5.0</td>\n",
              "      <td>0.0</td>\n",
              "      <td>Bratislava</td>\n",
              "      <td>Amsterdam</td>\n",
              "      <td>(48.1516988, 17.1093063)</td>\n",
              "      <td>(52.3727598, 4.8936041)</td>\n",
              "      <td>987.7402</td>\n",
              "      <td>382.77</td>\n",
              "      <td>666.72</td>\n",
              "      <td>v_004</td>\n",
              "    </tr>\n",
              "    <tr>\n",
              "      <th>5</th>\n",
              "      <td>5</td>\n",
              "      <td>e44e27ecfafa</td>\n",
              "      <td>Rotterdam</td>\n",
              "      <td>DTP</td>\n",
              "      <td>Bratislava</td>\n",
              "      <td>Amsterdam</td>\n",
              "      <td>1664067</td>\n",
              "      <td>543</td>\n",
              "      <td>0</td>\n",
              "      <td>550.0</td>\n",
              "      <td>0.0</td>\n",
              "      <td>0.0</td>\n",
              "      <td>Bratislava</td>\n",
              "      <td>Amsterdam</td>\n",
              "      <td>(48.1516988, 17.1093063)</td>\n",
              "      <td>(52.3727598, 4.8936041)</td>\n",
              "      <td>987.7402</td>\n",
              "      <td>382.77</td>\n",
              "      <td>666.72</td>\n",
              "      <td>v_003</td>\n",
              "    </tr>\n",
              "    <tr>\n",
              "      <th>7</th>\n",
              "      <td>7</td>\n",
              "      <td>cbd2b6f738e6</td>\n",
              "      <td>Rotterdam</td>\n",
              "      <td>CRF</td>\n",
              "      <td>Bratislava</td>\n",
              "      <td>Amsterdam</td>\n",
              "      <td>1672986</td>\n",
              "      <td>477</td>\n",
              "      <td>0</td>\n",
              "      <td>508.0</td>\n",
              "      <td>2.0</td>\n",
              "      <td>0.0</td>\n",
              "      <td>Bratislava</td>\n",
              "      <td>Amsterdam</td>\n",
              "      <td>(48.1516988, 17.1093063)</td>\n",
              "      <td>(52.3727598, 4.8936041)</td>\n",
              "      <td>987.7402</td>\n",
              "      <td>382.77</td>\n",
              "      <td>666.72</td>\n",
              "      <td>v_004</td>\n",
              "    </tr>\n",
              "  </tbody>\n",
              "</table>\n",
              "</div>\n",
              "      <button class=\"colab-df-convert\" onclick=\"convertToInteractive('df-4217078e-afc9-4150-93e8-ea902d5479d6')\"\n",
              "              title=\"Convert this dataframe to an interactive table.\"\n",
              "              style=\"display:none;\">\n",
              "        \n",
              "  <svg xmlns=\"http://www.w3.org/2000/svg\" height=\"24px\"viewBox=\"0 0 24 24\"\n",
              "       width=\"24px\">\n",
              "    <path d=\"M0 0h24v24H0V0z\" fill=\"none\"/>\n",
              "    <path d=\"M18.56 5.44l.94 2.06.94-2.06 2.06-.94-2.06-.94-.94-2.06-.94 2.06-2.06.94zm-11 1L8.5 8.5l.94-2.06 2.06-.94-2.06-.94L8.5 2.5l-.94 2.06-2.06.94zm10 10l.94 2.06.94-2.06 2.06-.94-2.06-.94-.94-2.06-.94 2.06-2.06.94z\"/><path d=\"M17.41 7.96l-1.37-1.37c-.4-.4-.92-.59-1.43-.59-.52 0-1.04.2-1.43.59L10.3 9.45l-7.72 7.72c-.78.78-.78 2.05 0 2.83L4 21.41c.39.39.9.59 1.41.59.51 0 1.02-.2 1.41-.59l7.78-7.78 2.81-2.81c.8-.78.8-2.07 0-2.86zM5.41 20L4 18.59l7.72-7.72 1.47 1.35L5.41 20z\"/>\n",
              "  </svg>\n",
              "      </button>\n",
              "      \n",
              "  <style>\n",
              "    .colab-df-container {\n",
              "      display:flex;\n",
              "      flex-wrap:wrap;\n",
              "      gap: 12px;\n",
              "    }\n",
              "\n",
              "    .colab-df-convert {\n",
              "      background-color: #E8F0FE;\n",
              "      border: none;\n",
              "      border-radius: 50%;\n",
              "      cursor: pointer;\n",
              "      display: none;\n",
              "      fill: #1967D2;\n",
              "      height: 32px;\n",
              "      padding: 0 0 0 0;\n",
              "      width: 32px;\n",
              "    }\n",
              "\n",
              "    .colab-df-convert:hover {\n",
              "      background-color: #E2EBFA;\n",
              "      box-shadow: 0px 1px 2px rgba(60, 64, 67, 0.3), 0px 1px 3px 1px rgba(60, 64, 67, 0.15);\n",
              "      fill: #174EA6;\n",
              "    }\n",
              "\n",
              "    [theme=dark] .colab-df-convert {\n",
              "      background-color: #3B4455;\n",
              "      fill: #D2E3FC;\n",
              "    }\n",
              "\n",
              "    [theme=dark] .colab-df-convert:hover {\n",
              "      background-color: #434B5C;\n",
              "      box-shadow: 0px 1px 3px 1px rgba(0, 0, 0, 0.15);\n",
              "      filter: drop-shadow(0px 1px 2px rgba(0, 0, 0, 0.3));\n",
              "      fill: #FFFFFF;\n",
              "    }\n",
              "  </style>\n",
              "\n",
              "      <script>\n",
              "        const buttonEl =\n",
              "          document.querySelector('#df-4217078e-afc9-4150-93e8-ea902d5479d6 button.colab-df-convert');\n",
              "        buttonEl.style.display =\n",
              "          google.colab.kernel.accessAllowed ? 'block' : 'none';\n",
              "\n",
              "        async function convertToInteractive(key) {\n",
              "          const element = document.querySelector('#df-4217078e-afc9-4150-93e8-ea902d5479d6');\n",
              "          const dataTable =\n",
              "            await google.colab.kernel.invokeFunction('convertToInteractive',\n",
              "                                                     [key], {});\n",
              "          if (!dataTable) return;\n",
              "\n",
              "          const docLinkHtml = 'Like what you see? Visit the ' +\n",
              "            '<a target=\"_blank\" href=https://colab.research.google.com/notebooks/data_table.ipynb>data table notebook</a>'\n",
              "            + ' to learn more about interactive tables.';\n",
              "          element.innerHTML = '';\n",
              "          dataTable['output_type'] = 'display_data';\n",
              "          await google.colab.output.renderOutput(dataTable, element);\n",
              "          const docLink = document.createElement('div');\n",
              "          docLink.innerHTML = docLinkHtml;\n",
              "          element.appendChild(docLink);\n",
              "        }\n",
              "      </script>\n",
              "    </div>\n",
              "  </div>\n",
              "  "
            ],
            "text/plain": [
              "   Unnamed: 0      order_id origin_port customs_procedures logistic_hub  \\\n",
              "0           0  c4660f1a2508   Barcelona                DTD   Bratislava   \n",
              "2           2  797bf1dc596a   Rotterdam                CRF   Bratislava   \n",
              "3           3  7a0abc024004   Rotterdam                CRF   Bratislava   \n",
              "5           5  e44e27ecfafa   Rotterdam                DTP   Bratislava   \n",
              "7           7  cbd2b6f738e6   Rotterdam                CRF   Bratislava   \n",
              "\n",
              "    customer  product_id  units  late_order  weight  material_handling  \\\n",
              "0  Amsterdam     1650404    492           0   565.0                4.0   \n",
              "2  Amsterdam     1657474    455           0   598.0                5.0   \n",
              "3  Amsterdam     1657474    471           0   598.0                5.0   \n",
              "5  Amsterdam     1664067    543           0   550.0                0.0   \n",
              "7  Amsterdam     1672986    477           0   508.0                2.0   \n",
              "\n",
              "   weight_class city_from_name city_to_name           city_from_coord  \\\n",
              "0           0.0     Bratislava    Amsterdam  (48.1516988, 17.1093063)   \n",
              "2           0.0     Bratislava    Amsterdam  (48.1516988, 17.1093063)   \n",
              "3           0.0     Bratislava    Amsterdam  (48.1516988, 17.1093063)   \n",
              "5           0.0     Bratislava    Amsterdam  (48.1516988, 17.1093063)   \n",
              "7           0.0     Bratislava    Amsterdam  (48.1516988, 17.1093063)   \n",
              "\n",
              "             city_to_coord  distance  cost_per_unit  co2_per_unit     pl  \n",
              "0  (52.3727598, 4.8936041)  987.7402         382.77        666.72  v_004  \n",
              "2  (52.3727598, 4.8936041)  987.7402         382.77        666.72  v_004  \n",
              "3  (52.3727598, 4.8936041)  987.7402         382.77        666.72  v_004  \n",
              "5  (52.3727598, 4.8936041)  987.7402         382.77        666.72  v_003  \n",
              "7  (52.3727598, 4.8936041)  987.7402         382.77        666.72  v_004  "
            ]
          },
          "execution_count": 38,
          "metadata": {},
          "output_type": "execute_result"
        }
      ],
      "source": [
        "df_1 = df_new[df.late_order == 0]\n",
        "df_2 = df_new[df.late_order == 1]\n",
        "print('Number of deliveries in time',len(df_1))\n",
        "print('Number of deliveries late',len(df_2))\n",
        "\n",
        "## Imbalanced Data - subsampling\n",
        "df_equal = pd.concat([df_1,df_2.sample(len(df_2))])\n",
        "df_equal=df_equal[df_classification.columns]\n",
        "df_equal.head()"
      ]
    },
    {
      "cell_type": "code",
      "execution_count": null,
      "metadata": {
        "colab": {
          "background_save": true
        },
        "id": "TyPmDJOz2NwY",
        "outputId": "7bd54485-41c1-46c6-efe6-2b3ee6e88a85"
      },
      "outputs": [
        {
          "data": {
            "text/plain": [
              "Unnamed: 0              int64\n",
              "order_id               object\n",
              "origin_port            object\n",
              "customs_procedures     object\n",
              "logistic_hub           object\n",
              "customer               object\n",
              "product_id              int64\n",
              "units                   int64\n",
              "late_order              int64\n",
              "weight                float64\n",
              "material_handling     float64\n",
              "weight_class          float64\n",
              "city_from_name         object\n",
              "city_to_name           object\n",
              "city_from_coord        object\n",
              "city_to_coord          object\n",
              "distance              float64\n",
              "cost_per_unit         float64\n",
              "co2_per_unit          float64\n",
              "pl                     object\n",
              "dtype: object"
            ]
          },
          "execution_count": 39,
          "metadata": {},
          "output_type": "execute_result"
        }
      ],
      "source": [
        "df_classification.dtypes"
      ]
    },
    {
      "cell_type": "code",
      "execution_count": null,
      "metadata": {
        "colab": {
          "background_save": true
        },
        "id": "UDN1XG5o2Nwa",
        "outputId": "ce17e968-b456-4f80-97e7-7548b0811b4d"
      },
      "outputs": [
        {
          "data": {
            "text/plain": [
              "111627"
            ]
          },
          "execution_count": 40,
          "metadata": {},
          "output_type": "execute_result"
        }
      ],
      "source": [
        "len(df_equal)"
      ]
    },
    {
      "cell_type": "markdown",
      "metadata": {
        "id": "ber8YnE-2Nwa"
      },
      "source": [
        "### Model Selection and Model Tuning"
      ]
    },
    {
      "cell_type": "code",
      "execution_count": null,
      "metadata": {
        "colab": {
          "background_save": true
        },
        "id": "YM6Z_y1q2Nwb"
      },
      "outputs": [],
      "source": [
        "from sklearn.tree import DecisionTreeClassifier\n",
        "from sklearn.metrics import accuracy_score"
      ]
    },
    {
      "cell_type": "code",
      "execution_count": null,
      "metadata": {
        "colab": {
          "background_save": true
        },
        "id": "5VdbiTRY2Nwb",
        "outputId": "890355d6-b50d-4d60-89e0-d21d0e0e828c"
      },
      "outputs": [
        {
          "data": {
            "text/plain": [
              "Index(['Unnamed: 0', 'order_id', 'origin_port', 'customs_procedures',\n",
              "       'logistic_hub', 'customer', 'product_id', 'units', 'late_order',\n",
              "       'weight', 'material_handling', 'weight_class', 'city_from_name',\n",
              "       'city_to_name', 'city_from_coord', 'city_to_coord', 'distance',\n",
              "       'cost_per_unit', 'co2_per_unit', 'pl'],\n",
              "      dtype='object')"
            ]
          },
          "execution_count": 42,
          "metadata": {},
          "output_type": "execute_result"
        }
      ],
      "source": [
        "df_equal.columns"
      ]
    },
    {
      "cell_type": "code",
      "execution_count": null,
      "metadata": {
        "colab": {
          "background_save": true
        },
        "id": "6JkAwZ3g2Nwb",
        "outputId": "c1bd9546-68dd-49f2-e4cc-af12b9c013b1"
      },
      "outputs": [
        {
          "data": {
            "text/plain": [
              "array([0, 1])"
            ]
          },
          "execution_count": 43,
          "metadata": {},
          "output_type": "execute_result"
        }
      ],
      "source": [
        "y = df_equal.late_order\n",
        "y.unique()"
      ]
    },
    {
      "cell_type": "code",
      "execution_count": null,
      "metadata": {
        "colab": {
          "background_save": true
        },
        "id": "mGU3koh82Nwc",
        "outputId": "ff66bbe9-355b-4478-db7e-4d11d919b379"
      },
      "outputs": [
        {
          "data": {
            "text/plain": [
              "Index(['Unnamed: 0', 'order_id', 'origin_port', 'customs_procedures',\n",
              "       'logistic_hub', 'customer', 'product_id', 'units', 'weight',\n",
              "       'material_handling', 'weight_class', 'city_from_name', 'city_to_name',\n",
              "       'city_from_coord', 'city_to_coord', 'distance', 'cost_per_unit',\n",
              "       'co2_per_unit', 'pl'],\n",
              "      dtype='object')"
            ]
          },
          "execution_count": 44,
          "metadata": {},
          "output_type": "execute_result"
        }
      ],
      "source": [
        "del df_equal['late_order']\n",
        "df_equal.columns"
      ]
    },
    {
      "cell_type": "code",
      "execution_count": null,
      "metadata": {
        "colab": {
          "background_save": true
        },
        "id": "yTJz6SFN2Nwd"
      },
      "outputs": [],
      "source": [
        "y_1=[]\n",
        "for i in range(0,len(y)):\n",
        "    if y.iloc[i] == 1:\n",
        "        y_1.append(1)\n",
        "    else:\n",
        "        y_1.append(0)"
      ]
    },
    {
      "cell_type": "code",
      "execution_count": null,
      "metadata": {
        "colab": {
          "background_save": true
        },
        "id": "2uK2Nbob2Nwd",
        "outputId": "b3b692b9-5b94-485c-d1fe-31ecad1fcc26"
      },
      "outputs": [
        {
          "data": {
            "text/plain": [
              "0         0\n",
              "1         0\n",
              "2         0\n",
              "3         0\n",
              "4         0\n",
              "         ..\n",
              "111622    1\n",
              "111623    1\n",
              "111624    1\n",
              "111625    1\n",
              "111626    1\n",
              "Length: 111627, dtype: int64"
            ]
          },
          "execution_count": 46,
          "metadata": {},
          "output_type": "execute_result"
        }
      ],
      "source": [
        "y = pd.Series(y_1)\n",
        "y"
      ]
    },
    {
      "cell_type": "code",
      "execution_count": null,
      "metadata": {
        "colab": {
          "background_save": true
        },
        "id": "xLJUrFmYjdjF"
      },
      "outputs": [],
      "source": [
        "cols2=['units','weight','material_handling','weight_class','distance']"
      ]
    },
    {
      "cell_type": "code",
      "execution_count": null,
      "metadata": {
        "colab": {
          "background_save": true
        },
        "id": "yhs4z5GJlMM4",
        "outputId": "57bf0cfb-2d2f-4ec9-8a8b-c890d0b3c965"
      },
      "outputs": [
        {
          "data": {
            "text/html": [
              "\n",
              "  <div id=\"df-4e9aad51-8704-4e79-b20b-2a952c9d2dd6\">\n",
              "    <div class=\"colab-df-container\">\n",
              "      <div>\n",
              "<style scoped>\n",
              "    .dataframe tbody tr th:only-of-type {\n",
              "        vertical-align: middle;\n",
              "    }\n",
              "\n",
              "    .dataframe tbody tr th {\n",
              "        vertical-align: top;\n",
              "    }\n",
              "\n",
              "    .dataframe thead th {\n",
              "        text-align: right;\n",
              "    }\n",
              "</style>\n",
              "<table border=\"1\" class=\"dataframe\">\n",
              "  <thead>\n",
              "    <tr style=\"text-align: right;\">\n",
              "      <th></th>\n",
              "      <th>units</th>\n",
              "      <th>weight</th>\n",
              "      <th>material_handling</th>\n",
              "      <th>weight_class</th>\n",
              "      <th>distance</th>\n",
              "    </tr>\n",
              "  </thead>\n",
              "  <tbody>\n",
              "    <tr>\n",
              "      <th>0</th>\n",
              "      <td>492</td>\n",
              "      <td>565.0</td>\n",
              "      <td>4.0</td>\n",
              "      <td>0.0</td>\n",
              "      <td>987.7402</td>\n",
              "    </tr>\n",
              "    <tr>\n",
              "      <th>2</th>\n",
              "      <td>455</td>\n",
              "      <td>598.0</td>\n",
              "      <td>5.0</td>\n",
              "      <td>0.0</td>\n",
              "      <td>987.7402</td>\n",
              "    </tr>\n",
              "    <tr>\n",
              "      <th>3</th>\n",
              "      <td>471</td>\n",
              "      <td>598.0</td>\n",
              "      <td>5.0</td>\n",
              "      <td>0.0</td>\n",
              "      <td>987.7402</td>\n",
              "    </tr>\n",
              "    <tr>\n",
              "      <th>5</th>\n",
              "      <td>543</td>\n",
              "      <td>550.0</td>\n",
              "      <td>0.0</td>\n",
              "      <td>0.0</td>\n",
              "      <td>987.7402</td>\n",
              "    </tr>\n",
              "    <tr>\n",
              "      <th>7</th>\n",
              "      <td>477</td>\n",
              "      <td>508.0</td>\n",
              "      <td>2.0</td>\n",
              "      <td>0.0</td>\n",
              "      <td>987.7402</td>\n",
              "    </tr>\n",
              "    <tr>\n",
              "      <th>...</th>\n",
              "      <td>...</td>\n",
              "      <td>...</td>\n",
              "      <td>...</td>\n",
              "      <td>...</td>\n",
              "      <td>...</td>\n",
              "    </tr>\n",
              "    <tr>\n",
              "      <th>63131</th>\n",
              "      <td>440</td>\n",
              "      <td>1294.0</td>\n",
              "      <td>2.0</td>\n",
              "      <td>5.0</td>\n",
              "      <td>1108.5886</td>\n",
              "    </tr>\n",
              "    <tr>\n",
              "      <th>67889</th>\n",
              "      <td>461</td>\n",
              "      <td>1086.0</td>\n",
              "      <td>0.0</td>\n",
              "      <td>3.0</td>\n",
              "      <td>1153.4178</td>\n",
              "    </tr>\n",
              "    <tr>\n",
              "      <th>3289</th>\n",
              "      <td>402</td>\n",
              "      <td>976.0</td>\n",
              "      <td>4.0</td>\n",
              "      <td>2.0</td>\n",
              "      <td>844.0198</td>\n",
              "    </tr>\n",
              "    <tr>\n",
              "      <th>87170</th>\n",
              "      <td>588</td>\n",
              "      <td>1885.0</td>\n",
              "      <td>5.0</td>\n",
              "      <td>8.0</td>\n",
              "      <td>1159.0472</td>\n",
              "    </tr>\n",
              "    <tr>\n",
              "      <th>86201</th>\n",
              "      <td>543</td>\n",
              "      <td>2097.0</td>\n",
              "      <td>2.0</td>\n",
              "      <td>9.0</td>\n",
              "      <td>1160.8464</td>\n",
              "    </tr>\n",
              "  </tbody>\n",
              "</table>\n",
              "<p>111627 rows × 5 columns</p>\n",
              "</div>\n",
              "      <button class=\"colab-df-convert\" onclick=\"convertToInteractive('df-4e9aad51-8704-4e79-b20b-2a952c9d2dd6')\"\n",
              "              title=\"Convert this dataframe to an interactive table.\"\n",
              "              style=\"display:none;\">\n",
              "        \n",
              "  <svg xmlns=\"http://www.w3.org/2000/svg\" height=\"24px\"viewBox=\"0 0 24 24\"\n",
              "       width=\"24px\">\n",
              "    <path d=\"M0 0h24v24H0V0z\" fill=\"none\"/>\n",
              "    <path d=\"M18.56 5.44l.94 2.06.94-2.06 2.06-.94-2.06-.94-.94-2.06-.94 2.06-2.06.94zm-11 1L8.5 8.5l.94-2.06 2.06-.94-2.06-.94L8.5 2.5l-.94 2.06-2.06.94zm10 10l.94 2.06.94-2.06 2.06-.94-2.06-.94-.94-2.06-.94 2.06-2.06.94z\"/><path d=\"M17.41 7.96l-1.37-1.37c-.4-.4-.92-.59-1.43-.59-.52 0-1.04.2-1.43.59L10.3 9.45l-7.72 7.72c-.78.78-.78 2.05 0 2.83L4 21.41c.39.39.9.59 1.41.59.51 0 1.02-.2 1.41-.59l7.78-7.78 2.81-2.81c.8-.78.8-2.07 0-2.86zM5.41 20L4 18.59l7.72-7.72 1.47 1.35L5.41 20z\"/>\n",
              "  </svg>\n",
              "      </button>\n",
              "      \n",
              "  <style>\n",
              "    .colab-df-container {\n",
              "      display:flex;\n",
              "      flex-wrap:wrap;\n",
              "      gap: 12px;\n",
              "    }\n",
              "\n",
              "    .colab-df-convert {\n",
              "      background-color: #E8F0FE;\n",
              "      border: none;\n",
              "      border-radius: 50%;\n",
              "      cursor: pointer;\n",
              "      display: none;\n",
              "      fill: #1967D2;\n",
              "      height: 32px;\n",
              "      padding: 0 0 0 0;\n",
              "      width: 32px;\n",
              "    }\n",
              "\n",
              "    .colab-df-convert:hover {\n",
              "      background-color: #E2EBFA;\n",
              "      box-shadow: 0px 1px 2px rgba(60, 64, 67, 0.3), 0px 1px 3px 1px rgba(60, 64, 67, 0.15);\n",
              "      fill: #174EA6;\n",
              "    }\n",
              "\n",
              "    [theme=dark] .colab-df-convert {\n",
              "      background-color: #3B4455;\n",
              "      fill: #D2E3FC;\n",
              "    }\n",
              "\n",
              "    [theme=dark] .colab-df-convert:hover {\n",
              "      background-color: #434B5C;\n",
              "      box-shadow: 0px 1px 3px 1px rgba(0, 0, 0, 0.15);\n",
              "      filter: drop-shadow(0px 1px 2px rgba(0, 0, 0, 0.3));\n",
              "      fill: #FFFFFF;\n",
              "    }\n",
              "  </style>\n",
              "\n",
              "      <script>\n",
              "        const buttonEl =\n",
              "          document.querySelector('#df-4e9aad51-8704-4e79-b20b-2a952c9d2dd6 button.colab-df-convert');\n",
              "        buttonEl.style.display =\n",
              "          google.colab.kernel.accessAllowed ? 'block' : 'none';\n",
              "\n",
              "        async function convertToInteractive(key) {\n",
              "          const element = document.querySelector('#df-4e9aad51-8704-4e79-b20b-2a952c9d2dd6');\n",
              "          const dataTable =\n",
              "            await google.colab.kernel.invokeFunction('convertToInteractive',\n",
              "                                                     [key], {});\n",
              "          if (!dataTable) return;\n",
              "\n",
              "          const docLinkHtml = 'Like what you see? Visit the ' +\n",
              "            '<a target=\"_blank\" href=https://colab.research.google.com/notebooks/data_table.ipynb>data table notebook</a>'\n",
              "            + ' to learn more about interactive tables.';\n",
              "          element.innerHTML = '';\n",
              "          dataTable['output_type'] = 'display_data';\n",
              "          await google.colab.output.renderOutput(dataTable, element);\n",
              "          const docLink = document.createElement('div');\n",
              "          docLink.innerHTML = docLinkHtml;\n",
              "          element.appendChild(docLink);\n",
              "        }\n",
              "      </script>\n",
              "    </div>\n",
              "  </div>\n",
              "  "
            ],
            "text/plain": [
              "       units  weight  material_handling  weight_class   distance\n",
              "0        492   565.0                4.0           0.0   987.7402\n",
              "2        455   598.0                5.0           0.0   987.7402\n",
              "3        471   598.0                5.0           0.0   987.7402\n",
              "5        543   550.0                0.0           0.0   987.7402\n",
              "7        477   508.0                2.0           0.0   987.7402\n",
              "...      ...     ...                ...           ...        ...\n",
              "63131    440  1294.0                2.0           5.0  1108.5886\n",
              "67889    461  1086.0                0.0           3.0  1153.4178\n",
              "3289     402   976.0                4.0           2.0   844.0198\n",
              "87170    588  1885.0                5.0           8.0  1159.0472\n",
              "86201    543  2097.0                2.0           9.0  1160.8464\n",
              "\n",
              "[111627 rows x 5 columns]"
            ]
          },
          "execution_count": 48,
          "metadata": {},
          "output_type": "execute_result"
        }
      ],
      "source": [
        "df_equal[cols2]"
      ]
    },
    {
      "cell_type": "code",
      "execution_count": null,
      "metadata": {
        "colab": {
          "background_save": true
        },
        "id": "j9MYghDF2Nwe",
        "outputId": "a1c50f7f-0e19-48f7-f1e1-2ad603c93158"
      },
      "outputs": [
        {
          "name": "stdout",
          "output_type": "stream",
          "text": [
            "0.7087252530681717\n"
          ]
        }
      ],
      "source": [
        "from sklearn.model_selection import train_test_split\n",
        "X_train, X_test, y_train, y_test = train_test_split(df_equal[cols2], y, test_size = 0.2)\n",
        "\n",
        "dec_clf = DecisionTreeClassifier().fit(X_train, y_train)\n",
        "y_pred = dec_clf.predict(X_test)\n",
        "print(accuracy_score(y_pred,y_test))\n",
        "\n"
      ]
    },
    {
      "cell_type": "code",
      "execution_count": null,
      "metadata": {
        "colab": {
          "background_save": true
        },
        "id": "hZrafPTM2Nwe"
      },
      "outputs": [],
      "source": [
        "from sklearn.model_selection import cross_val_score\n",
        "depth = []\n",
        "for i in range(3,20):\n",
        "    clf = DecisionTreeClassifier(max_depth=i).fit(X_train,y_train)\n",
        "    scores = cross_val_score(estimator=clf, X=X_train, y=y_train, cv=5, n_jobs=4)\n",
        "    depth.append(scores.mean())"
      ]
    },
    {
      "cell_type": "code",
      "execution_count": null,
      "metadata": {
        "colab": {
          "base_uri": "https://localhost:8080/"
        },
        "id": "roAttPqV2Nwf",
        "outputId": "5bf2c9d8-dd47-44f4-b847-d956e90a3061"
      },
      "outputs": [
        {
          "data": {
            "text/plain": [
              "17"
            ]
          },
          "execution_count": 653,
          "metadata": {},
          "output_type": "execute_result"
        }
      ],
      "source": [
        "len(depth)"
      ]
    },
    {
      "cell_type": "code",
      "execution_count": null,
      "metadata": {
        "colab": {
          "base_uri": "https://localhost:8080/",
          "height": 296
        },
        "id": "hrH2hOd72Nwf",
        "outputId": "f1d4b4a0-6a4a-4b5e-c468-71b34811320b"
      },
      "outputs": [
        {
          "data": {
            "text/plain": [
              "Text(0, 0.5, 'Accuracy')"
            ]
          },
          "execution_count": 654,
          "metadata": {},
          "output_type": "execute_result"
        },
        {
          "data": {
            "image/png": "[encoded data removed]",
            "text/plain": [
              "<Figure size 432x288 with 1 Axes>"
            ]
          },
          "metadata": {},
          "output_type": "display_data"
        }
      ],
      "source": [
        "plt.plot(range(3,20),depth)\n",
        "plt.xlabel('Depth')\n",
        "plt.ylabel('Accuracy')"
      ]
    },
    {
      "cell_type": "code",
      "execution_count": null,
      "metadata": {
        "colab": {
          "base_uri": "https://localhost:8080/"
        },
        "id": "SxCIBzf32Nwg",
        "outputId": "3a580e7c-2715-400e-869e-3afa58707108"
      },
      "outputs": [
        {
          "data": {
            "text/plain": [
              "6"
            ]
          },
          "execution_count": 655,
          "metadata": {},
          "output_type": "execute_result"
        }
      ],
      "source": [
        "best_depth = range(3,20)[np.argmax(depth)]\n",
        "best_depth"
      ]
    },
    {
      "cell_type": "code",
      "execution_count": null,
      "metadata": {
        "colab": {
          "base_uri": "https://localhost:8080/",
          "height": 424
        },
        "id": "vrhMvKh5xjhB",
        "outputId": "e49d127c-4f6e-4bc9-b19e-15edef575941"
      },
      "outputs": [
        {
          "data": {
            "text/html": [
              "\n",
              "  <div id=\"df-f142824f-9f98-4d21-92f8-911e92dc5207\">\n",
              "    <div class=\"colab-df-container\">\n",
              "      <div>\n",
              "<style scoped>\n",
              "    .dataframe tbody tr th:only-of-type {\n",
              "        vertical-align: middle;\n",
              "    }\n",
              "\n",
              "    .dataframe tbody tr th {\n",
              "        vertical-align: top;\n",
              "    }\n",
              "\n",
              "    .dataframe thead th {\n",
              "        text-align: right;\n",
              "    }\n",
              "</style>\n",
              "<table border=\"1\" class=\"dataframe\">\n",
              "  <thead>\n",
              "    <tr style=\"text-align: right;\">\n",
              "      <th></th>\n",
              "      <th>units</th>\n",
              "      <th>weight</th>\n",
              "      <th>material_handling</th>\n",
              "      <th>weight_class</th>\n",
              "      <th>distance</th>\n",
              "    </tr>\n",
              "  </thead>\n",
              "  <tbody>\n",
              "    <tr>\n",
              "      <th>81114</th>\n",
              "      <td>432</td>\n",
              "      <td>1551.0</td>\n",
              "      <td>4.0</td>\n",
              "      <td>6.0</td>\n",
              "      <td>696.3485</td>\n",
              "    </tr>\n",
              "    <tr>\n",
              "      <th>6080</th>\n",
              "      <td>529</td>\n",
              "      <td>744.0</td>\n",
              "      <td>3.0</td>\n",
              "      <td>1.0</td>\n",
              "      <td>477.3717</td>\n",
              "    </tr>\n",
              "    <tr>\n",
              "      <th>19168</th>\n",
              "      <td>554</td>\n",
              "      <td>1379.0</td>\n",
              "      <td>3.0</td>\n",
              "      <td>5.0</td>\n",
              "      <td>1473.6254</td>\n",
              "    </tr>\n",
              "    <tr>\n",
              "      <th>27703</th>\n",
              "      <td>595</td>\n",
              "      <td>1288.0</td>\n",
              "      <td>5.0</td>\n",
              "      <td>4.0</td>\n",
              "      <td>1787.4018</td>\n",
              "    </tr>\n",
              "    <tr>\n",
              "      <th>92605</th>\n",
              "      <td>541</td>\n",
              "      <td>2054.0</td>\n",
              "      <td>4.0</td>\n",
              "      <td>9.0</td>\n",
              "      <td>523.8994</td>\n",
              "    </tr>\n",
              "    <tr>\n",
              "      <th>...</th>\n",
              "      <td>...</td>\n",
              "      <td>...</td>\n",
              "      <td>...</td>\n",
              "      <td>...</td>\n",
              "      <td>...</td>\n",
              "    </tr>\n",
              "    <tr>\n",
              "      <th>38824</th>\n",
              "      <td>453</td>\n",
              "      <td>1570.0</td>\n",
              "      <td>3.0</td>\n",
              "      <td>6.0</td>\n",
              "      <td>2008.8628</td>\n",
              "    </tr>\n",
              "    <tr>\n",
              "      <th>24965</th>\n",
              "      <td>600</td>\n",
              "      <td>1294.0</td>\n",
              "      <td>2.0</td>\n",
              "      <td>5.0</td>\n",
              "      <td>132.0362</td>\n",
              "    </tr>\n",
              "    <tr>\n",
              "      <th>3654</th>\n",
              "      <td>486</td>\n",
              "      <td>1208.0</td>\n",
              "      <td>5.0</td>\n",
              "      <td>4.0</td>\n",
              "      <td>2170.9236</td>\n",
              "    </tr>\n",
              "    <tr>\n",
              "      <th>13190</th>\n",
              "      <td>461</td>\n",
              "      <td>1110.0</td>\n",
              "      <td>5.0</td>\n",
              "      <td>3.0</td>\n",
              "      <td>487.5926</td>\n",
              "    </tr>\n",
              "    <tr>\n",
              "      <th>54927</th>\n",
              "      <td>508</td>\n",
              "      <td>638.0</td>\n",
              "      <td>3.0</td>\n",
              "      <td>1.0</td>\n",
              "      <td>1183.0545</td>\n",
              "    </tr>\n",
              "  </tbody>\n",
              "</table>\n",
              "<p>22326 rows × 5 columns</p>\n",
              "</div>\n",
              "      <button class=\"colab-df-convert\" onclick=\"convertToInteractive('df-f142824f-9f98-4d21-92f8-911e92dc5207')\"\n",
              "              title=\"Convert this dataframe to an interactive table.\"\n",
              "              style=\"display:none;\">\n",
              "        \n",
              "  <svg xmlns=\"http://www.w3.org/2000/svg\" height=\"24px\"viewBox=\"0 0 24 24\"\n",
              "       width=\"24px\">\n",
              "    <path d=\"M0 0h24v24H0V0z\" fill=\"none\"/>\n",
              "    <path d=\"M18.56 5.44l.94 2.06.94-2.06 2.06-.94-2.06-.94-.94-2.06-.94 2.06-2.06.94zm-11 1L8.5 8.5l.94-2.06 2.06-.94-2.06-.94L8.5 2.5l-.94 2.06-2.06.94zm10 10l.94 2.06.94-2.06 2.06-.94-2.06-.94-.94-2.06-.94 2.06-2.06.94z\"/><path d=\"M17.41 7.96l-1.37-1.37c-.4-.4-.92-.59-1.43-.59-.52 0-1.04.2-1.43.59L10.3 9.45l-7.72 7.72c-.78.78-.78 2.05 0 2.83L4 21.41c.39.39.9.59 1.41.59.51 0 1.02-.2 1.41-.59l7.78-7.78 2.81-2.81c.8-.78.8-2.07 0-2.86zM5.41 20L4 18.59l7.72-7.72 1.47 1.35L5.41 20z\"/>\n",
              "  </svg>\n",
              "      </button>\n",
              "      \n",
              "  <style>\n",
              "    .colab-df-container {\n",
              "      display:flex;\n",
              "      flex-wrap:wrap;\n",
              "      gap: 12px;\n",
              "    }\n",
              "\n",
              "    .colab-df-convert {\n",
              "      background-color: #E8F0FE;\n",
              "      border: none;\n",
              "      border-radius: 50%;\n",
              "      cursor: pointer;\n",
              "      display: none;\n",
              "      fill: #1967D2;\n",
              "      height: 32px;\n",
              "      padding: 0 0 0 0;\n",
              "      width: 32px;\n",
              "    }\n",
              "\n",
              "    .colab-df-convert:hover {\n",
              "      background-color: #E2EBFA;\n",
              "      box-shadow: 0px 1px 2px rgba(60, 64, 67, 0.3), 0px 1px 3px 1px rgba(60, 64, 67, 0.15);\n",
              "      fill: #174EA6;\n",
              "    }\n",
              "\n",
              "    [theme=dark] .colab-df-convert {\n",
              "      background-color: #3B4455;\n",
              "      fill: #D2E3FC;\n",
              "    }\n",
              "\n",
              "    [theme=dark] .colab-df-convert:hover {\n",
              "      background-color: #434B5C;\n",
              "      box-shadow: 0px 1px 3px 1px rgba(0, 0, 0, 0.15);\n",
              "      filter: drop-shadow(0px 1px 2px rgba(0, 0, 0, 0.3));\n",
              "      fill: #FFFFFF;\n",
              "    }\n",
              "  </style>\n",
              "\n",
              "      <script>\n",
              "        const buttonEl =\n",
              "          document.querySelector('#df-f142824f-9f98-4d21-92f8-911e92dc5207 button.colab-df-convert');\n",
              "        buttonEl.style.display =\n",
              "          google.colab.kernel.accessAllowed ? 'block' : 'none';\n",
              "\n",
              "        async function convertToInteractive(key) {\n",
              "          const element = document.querySelector('#df-f142824f-9f98-4d21-92f8-911e92dc5207');\n",
              "          const dataTable =\n",
              "            await google.colab.kernel.invokeFunction('convertToInteractive',\n",
              "                                                     [key], {});\n",
              "          if (!dataTable) return;\n",
              "\n",
              "          const docLinkHtml = 'Like what you see? Visit the ' +\n",
              "            '<a target=\"_blank\" href=https://colab.research.google.com/notebooks/data_table.ipynb>data table notebook</a>'\n",
              "            + ' to learn more about interactive tables.';\n",
              "          element.innerHTML = '';\n",
              "          dataTable['output_type'] = 'display_data';\n",
              "          await google.colab.output.renderOutput(dataTable, element);\n",
              "          const docLink = document.createElement('div');\n",
              "          docLink.innerHTML = docLinkHtml;\n",
              "          element.appendChild(docLink);\n",
              "        }\n",
              "      </script>\n",
              "    </div>\n",
              "  </div>\n",
              "  "
            ],
            "text/plain": [
              "       units  weight  material_handling  weight_class   distance\n",
              "81114    432  1551.0                4.0           6.0   696.3485\n",
              "6080     529   744.0                3.0           1.0   477.3717\n",
              "19168    554  1379.0                3.0           5.0  1473.6254\n",
              "27703    595  1288.0                5.0           4.0  1787.4018\n",
              "92605    541  2054.0                4.0           9.0   523.8994\n",
              "...      ...     ...                ...           ...        ...\n",
              "38824    453  1570.0                3.0           6.0  2008.8628\n",
              "24965    600  1294.0                2.0           5.0   132.0362\n",
              "3654     486  1208.0                5.0           4.0  2170.9236\n",
              "13190    461  1110.0                5.0           3.0   487.5926\n",
              "54927    508   638.0                3.0           1.0  1183.0545\n",
              "\n",
              "[22326 rows x 5 columns]"
            ]
          },
          "execution_count": 656,
          "metadata": {},
          "output_type": "execute_result"
        }
      ],
      "source": [
        "\n",
        "X_test"
      ]
    },
    {
      "cell_type": "code",
      "execution_count": null,
      "metadata": {
        "colab": {
          "base_uri": "https://localhost:8080/"
        },
        "id": "Ui4kHcxb2Nwh",
        "outputId": "f74edc56-99fd-4e34-afa6-e115db0aadcf"
      },
      "outputs": [
        {
          "name": "stdout",
          "output_type": "stream",
          "text": [
            "0.7685210068977874\n"
          ]
        }
      ],
      "source": [
        "dec = DecisionTreeClassifier(max_depth=best_depth).fit(X_train, y_train)\n",
        "y_pred = clf.predict(X_test)\n",
        "print(accuracy_score(y_pred,y_test))"
      ]
    },
    {
      "cell_type": "code",
      "execution_count": null,
      "metadata": {
        "colab": {
          "base_uri": "https://localhost:8080/"
        },
        "id": "XTfDXgYL6j9n",
        "outputId": "6aa62983-a9e9-413a-9828-543970b9f8bc"
      },
      "outputs": [
        {
          "name": "stdout",
          "output_type": "stream",
          "text": [
            "0.7875571083042193\n"
          ]
        }
      ],
      "source": [
        "from sklearn.ensemble import RandomForestClassifier\n",
        "rf_clf = RandomForestClassifier().fit(X_train, y_train)\n",
        "y_pred = rf_clf.predict(X_test)\n",
        "print(accuracy_score(y_pred,y_test))"
      ]
    },
    {
      "cell_type": "code",
      "execution_count": null,
      "metadata": {
        "id": "Fa5_jn1v6k12"
      },
      "outputs": [],
      "source": [
        "depth_scores = []\n",
        "for i in range(3,150):\n",
        "    rf_clf = RandomForestClassifier(max_depth=i).fit(X_train,y_train)\n",
        "    scores = cross_val_score(estimator=rf_clf, X=X_train, y=y_train, cv=5, n_jobs=4)\n",
        "    depth_scores.append(scores.mean())"
      ]
    },
    {
      "cell_type": "code",
      "execution_count": null,
      "metadata": {
        "colab": {
          "base_uri": "https://localhost:8080/",
          "height": 296
        },
        "id": "9wv5zFoE6q5P",
        "outputId": "f0b9e0ec-d83a-4194-ae73-6a668e2b9098"
      },
      "outputs": [
        {
          "data": {
            "text/plain": [
              "Text(0, 0.5, 'Accuracy')"
            ]
          },
          "execution_count": 660,
          "metadata": {},
          "output_type": "execute_result"
        },
        {
          "data": {
            "image/png": "[encoded data removed]",
            "text/plain": [
              "<Figure size 432x288 with 1 Axes>"
            ]
          },
          "metadata": {},
          "output_type": "display_data"
        }
      ],
      "source": [
        "plt.plot(range(3,150),depth_scores)\n",
        "plt.xlabel('Depth')\n",
        "plt.ylabel('Accuracy')"
      ]
    },
    {
      "cell_type": "code",
      "execution_count": null,
      "metadata": {
        "colab": {
          "base_uri": "https://localhost:8080/"
        },
        "id": "EGutx9Vk6uSv",
        "outputId": "6d489ed2-62de-49e7-b12e-5898a160d92e"
      },
      "outputs": [
        {
          "data": {
            "text/plain": [
              "0.8017379442457002"
            ]
          },
          "execution_count": 661,
          "metadata": {},
          "output_type": "execute_result"
        }
      ],
      "source": [
        "best_depth_rf = range(3,150)[np.argmax(depth_scores)]\n",
        "depth_scores[best_depth_rf]"
      ]
    },
    {
      "cell_type": "code",
      "execution_count": null,
      "metadata": {
        "colab": {
          "base_uri": "https://localhost:8080/"
        },
        "id": "-L06pPCZ6w_H",
        "outputId": "ba3e512d-296f-4f77-99af-aef5e4de3365"
      },
      "outputs": [
        {
          "name": "stdout",
          "output_type": "stream",
          "text": [
            "0.8017558004120756\n"
          ]
        }
      ],
      "source": [
        "rf_clf = RandomForestClassifier(max_depth=best_depth_rf).fit(X_train, y_train)\n",
        "y_pred = rf_clf.predict(X_test)\n",
        "print(accuracy_score(y_pred,y_test))"
      ]
    },
    {
      "cell_type": "code",
      "execution_count": null,
      "metadata": {
        "id": "mdry3XxGk0MO"
      },
      "outputs": [],
      "source": [
        "X_test = df_test[cols2]\n",
        "X_test = X_test.fillna(-1)"
      ]
    },
    {
      "cell_type": "code",
      "execution_count": null,
      "metadata": {
        "colab": {
          "base_uri": "https://localhost:8080/",
          "height": 424
        },
        "id": "2z5QYPeCpJPe",
        "outputId": "07d28a16-c5ad-49ca-a0e4-d5335b45b018"
      },
      "outputs": [
        {
          "data": {
            "text/html": [
              "\n",
              "  <div id=\"df-ba2ec282-9e1a-44c4-a9bc-8961ec11d6d5\">\n",
              "    <div class=\"colab-df-container\">\n",
              "      <div>\n",
              "<style scoped>\n",
              "    .dataframe tbody tr th:only-of-type {\n",
              "        vertical-align: middle;\n",
              "    }\n",
              "\n",
              "    .dataframe tbody tr th {\n",
              "        vertical-align: top;\n",
              "    }\n",
              "\n",
              "    .dataframe thead th {\n",
              "        text-align: right;\n",
              "    }\n",
              "</style>\n",
              "<table border=\"1\" class=\"dataframe\">\n",
              "  <thead>\n",
              "    <tr style=\"text-align: right;\">\n",
              "      <th></th>\n",
              "      <th>units</th>\n",
              "      <th>weight</th>\n",
              "      <th>material_handling</th>\n",
              "      <th>weight_class</th>\n",
              "      <th>distance</th>\n",
              "    </tr>\n",
              "  </thead>\n",
              "  <tbody>\n",
              "    <tr>\n",
              "      <th>0</th>\n",
              "      <td>526</td>\n",
              "      <td>598.0</td>\n",
              "      <td>5.0</td>\n",
              "      <td>0.0</td>\n",
              "      <td>987.7402</td>\n",
              "    </tr>\n",
              "    <tr>\n",
              "      <th>1</th>\n",
              "      <td>475</td>\n",
              "      <td>598.0</td>\n",
              "      <td>5.0</td>\n",
              "      <td>0.0</td>\n",
              "      <td>987.7402</td>\n",
              "    </tr>\n",
              "    <tr>\n",
              "      <th>2</th>\n",
              "      <td>488</td>\n",
              "      <td>463.0</td>\n",
              "      <td>2.0</td>\n",
              "      <td>0.0</td>\n",
              "      <td>987.7402</td>\n",
              "    </tr>\n",
              "    <tr>\n",
              "      <th>3</th>\n",
              "      <td>433</td>\n",
              "      <td>594.0</td>\n",
              "      <td>5.0</td>\n",
              "      <td>0.0</td>\n",
              "      <td>987.7402</td>\n",
              "    </tr>\n",
              "    <tr>\n",
              "      <th>4</th>\n",
              "      <td>447</td>\n",
              "      <td>504.0</td>\n",
              "      <td>3.0</td>\n",
              "      <td>0.0</td>\n",
              "      <td>987.7402</td>\n",
              "    </tr>\n",
              "    <tr>\n",
              "      <th>...</th>\n",
              "      <td>...</td>\n",
              "      <td>...</td>\n",
              "      <td>...</td>\n",
              "      <td>...</td>\n",
              "      <td>...</td>\n",
              "    </tr>\n",
              "    <tr>\n",
              "      <th>28558</th>\n",
              "      <td>471</td>\n",
              "      <td>1884.0</td>\n",
              "      <td>3.0</td>\n",
              "      <td>8.0</td>\n",
              "      <td>-1.0000</td>\n",
              "    </tr>\n",
              "    <tr>\n",
              "      <th>28559</th>\n",
              "      <td>368</td>\n",
              "      <td>2876.0</td>\n",
              "      <td>3.0</td>\n",
              "      <td>9.0</td>\n",
              "      <td>-1.0000</td>\n",
              "    </tr>\n",
              "    <tr>\n",
              "      <th>28560</th>\n",
              "      <td>535</td>\n",
              "      <td>2411.0</td>\n",
              "      <td>0.0</td>\n",
              "      <td>9.0</td>\n",
              "      <td>-1.0000</td>\n",
              "    </tr>\n",
              "    <tr>\n",
              "      <th>28561</th>\n",
              "      <td>508</td>\n",
              "      <td>2164.0</td>\n",
              "      <td>5.0</td>\n",
              "      <td>9.0</td>\n",
              "      <td>-1.0000</td>\n",
              "    </tr>\n",
              "    <tr>\n",
              "      <th>28562</th>\n",
              "      <td>560</td>\n",
              "      <td>2075.0</td>\n",
              "      <td>4.0</td>\n",
              "      <td>9.0</td>\n",
              "      <td>-1.0000</td>\n",
              "    </tr>\n",
              "  </tbody>\n",
              "</table>\n",
              "<p>28563 rows × 5 columns</p>\n",
              "</div>\n",
              "      <button class=\"colab-df-convert\" onclick=\"convertToInteractive('df-ba2ec282-9e1a-44c4-a9bc-8961ec11d6d5')\"\n",
              "              title=\"Convert this dataframe to an interactive table.\"\n",
              "              style=\"display:none;\">\n",
              "        \n",
              "  <svg xmlns=\"http://www.w3.org/2000/svg\" height=\"24px\"viewBox=\"0 0 24 24\"\n",
              "       width=\"24px\">\n",
              "    <path d=\"M0 0h24v24H0V0z\" fill=\"none\"/>\n",
              "    <path d=\"M18.56 5.44l.94 2.06.94-2.06 2.06-.94-2.06-.94-.94-2.06-.94 2.06-2.06.94zm-11 1L8.5 8.5l.94-2.06 2.06-.94-2.06-.94L8.5 2.5l-.94 2.06-2.06.94zm10 10l.94 2.06.94-2.06 2.06-.94-2.06-.94-.94-2.06-.94 2.06-2.06.94z\"/><path d=\"M17.41 7.96l-1.37-1.37c-.4-.4-.92-.59-1.43-.59-.52 0-1.04.2-1.43.59L10.3 9.45l-7.72 7.72c-.78.78-.78 2.05 0 2.83L4 21.41c.39.39.9.59 1.41.59.51 0 1.02-.2 1.41-.59l7.78-7.78 2.81-2.81c.8-.78.8-2.07 0-2.86zM5.41 20L4 18.59l7.72-7.72 1.47 1.35L5.41 20z\"/>\n",
              "  </svg>\n",
              "      </button>\n",
              "      \n",
              "  <style>\n",
              "    .colab-df-container {\n",
              "      display:flex;\n",
              "      flex-wrap:wrap;\n",
              "      gap: 12px;\n",
              "    }\n",
              "\n",
              "    .colab-df-convert {\n",
              "      background-color: #E8F0FE;\n",
              "      border: none;\n",
              "      border-radius: 50%;\n",
              "      cursor: pointer;\n",
              "      display: none;\n",
              "      fill: #1967D2;\n",
              "      height: 32px;\n",
              "      padding: 0 0 0 0;\n",
              "      width: 32px;\n",
              "    }\n",
              "\n",
              "    .colab-df-convert:hover {\n",
              "      background-color: #E2EBFA;\n",
              "      box-shadow: 0px 1px 2px rgba(60, 64, 67, 0.3), 0px 1px 3px 1px rgba(60, 64, 67, 0.15);\n",
              "      fill: #174EA6;\n",
              "    }\n",
              "\n",
              "    [theme=dark] .colab-df-convert {\n",
              "      background-color: #3B4455;\n",
              "      fill: #D2E3FC;\n",
              "    }\n",
              "\n",
              "    [theme=dark] .colab-df-convert:hover {\n",
              "      background-color: #434B5C;\n",
              "      box-shadow: 0px 1px 3px 1px rgba(0, 0, 0, 0.15);\n",
              "      filter: drop-shadow(0px 1px 2px rgba(0, 0, 0, 0.3));\n",
              "      fill: #FFFFFF;\n",
              "    }\n",
              "  </style>\n",
              "\n",
              "      <script>\n",
              "        const buttonEl =\n",
              "          document.querySelector('#df-ba2ec282-9e1a-44c4-a9bc-8961ec11d6d5 button.colab-df-convert');\n",
              "        buttonEl.style.display =\n",
              "          google.colab.kernel.accessAllowed ? 'block' : 'none';\n",
              "\n",
              "        async function convertToInteractive(key) {\n",
              "          const element = document.querySelector('#df-ba2ec282-9e1a-44c4-a9bc-8961ec11d6d5');\n",
              "          const dataTable =\n",
              "            await google.colab.kernel.invokeFunction('convertToInteractive',\n",
              "                                                     [key], {});\n",
              "          if (!dataTable) return;\n",
              "\n",
              "          const docLinkHtml = 'Like what you see? Visit the ' +\n",
              "            '<a target=\"_blank\" href=https://colab.research.google.com/notebooks/data_table.ipynb>data table notebook</a>'\n",
              "            + ' to learn more about interactive tables.';\n",
              "          element.innerHTML = '';\n",
              "          dataTable['output_type'] = 'display_data';\n",
              "          await google.colab.output.renderOutput(dataTable, element);\n",
              "          const docLink = document.createElement('div');\n",
              "          docLink.innerHTML = docLinkHtml;\n",
              "          element.appendChild(docLink);\n",
              "        }\n",
              "      </script>\n",
              "    </div>\n",
              "  </div>\n",
              "  "
            ],
            "text/plain": [
              "       units  weight  material_handling  weight_class  distance\n",
              "0        526   598.0                5.0           0.0  987.7402\n",
              "1        475   598.0                5.0           0.0  987.7402\n",
              "2        488   463.0                2.0           0.0  987.7402\n",
              "3        433   594.0                5.0           0.0  987.7402\n",
              "4        447   504.0                3.0           0.0  987.7402\n",
              "...      ...     ...                ...           ...       ...\n",
              "28558    471  1884.0                3.0           8.0   -1.0000\n",
              "28559    368  2876.0                3.0           9.0   -1.0000\n",
              "28560    535  2411.0                0.0           9.0   -1.0000\n",
              "28561    508  2164.0                5.0           9.0   -1.0000\n",
              "28562    560  2075.0                4.0           9.0   -1.0000\n",
              "\n",
              "[28563 rows x 5 columns]"
            ]
          },
          "execution_count": 664,
          "metadata": {},
          "output_type": "execute_result"
        }
      ],
      "source": [
        "X_test"
      ]
    },
    {
      "cell_type": "code",
      "execution_count": null,
      "metadata": {
        "id": "0DoK6MtLnbe6"
      },
      "outputs": [],
      "source": [
        "id=[]\n",
        "for i in range (0,28563):\n",
        "  id.append(df_test['order_id'][i])\n",
        "\n",
        "\n"
      ]
    },
    {
      "cell_type": "code",
      "execution_count": null,
      "metadata": {
        "colab": {
          "base_uri": "https://localhost:8080/"
        },
        "id": "GO_-mxQkr9CZ",
        "outputId": "74b6a752-95bd-4931-da45-057b2eff2870"
      },
      "outputs": [
        {
          "data": {
            "text/plain": [
              "28563"
            ]
          },
          "execution_count": 666,
          "metadata": {},
          "output_type": "execute_result"
        }
      ],
      "source": [
        "len(id)"
      ]
    },
    {
      "cell_type": "code",
      "execution_count": null,
      "metadata": {
        "colab": {
          "base_uri": "https://localhost:8080/"
        },
        "id": "8DX0u6dmsMKi",
        "outputId": "06d968ca-9095-49f7-b79d-c5fe964d019a"
      },
      "outputs": [
        {
          "data": {
            "text/plain": [
              "28563"
            ]
          },
          "execution_count": 667,
          "metadata": {},
          "output_type": "execute_result"
        }
      ],
      "source": [
        "len(df_test['order_id'])"
      ]
    },
    {
      "cell_type": "code",
      "execution_count": null,
      "metadata": {
        "colab": {
          "base_uri": "https://localhost:8080/"
        },
        "id": "BgAdhYYbk8LH",
        "outputId": "e443dedd-1b20-4c1b-b282-a6bc3dff63ae"
      },
      "outputs": [
        {
          "name": "stdout",
          "output_type": "stream",
          "text": [
            "[[0.80359672 0.19640328]\n",
            " [0.77245258 0.22754742]\n",
            " [0.68643469 0.31356531]\n",
            " ...\n",
            " [0.3938086  0.6061914 ]\n",
            " [0.67562888 0.32437112]\n",
            " [0.46215038 0.53784962]]\n"
          ]
        }
      ],
      "source": [
        "pred_proba = rf_clf.predict_proba(X_test)\n",
        "print(pred_proba)"
      ]
    },
    {
      "cell_type": "code",
      "execution_count": null,
      "metadata": {
        "id": "seaWooDVnuXq"
      },
      "outputs": [],
      "source": [
        "\n",
        "\n",
        "X_test['order_id'] = id\n"
      ]
    },
    {
      "cell_type": "code",
      "execution_count": null,
      "metadata": {
        "colab": {
          "base_uri": "https://localhost:8080/",
          "height": 424
        },
        "id": "TnN5pVUooX27",
        "outputId": "0979069e-22f3-4a59-c2b4-f4c48d6409e6"
      },
      "outputs": [
        {
          "data": {
            "text/html": [
              "\n",
              "  <div id=\"df-1d6ea545-b09c-4895-bac8-0a811dea9d1e\">\n",
              "    <div class=\"colab-df-container\">\n",
              "      <div>\n",
              "<style scoped>\n",
              "    .dataframe tbody tr th:only-of-type {\n",
              "        vertical-align: middle;\n",
              "    }\n",
              "\n",
              "    .dataframe tbody tr th {\n",
              "        vertical-align: top;\n",
              "    }\n",
              "\n",
              "    .dataframe thead th {\n",
              "        text-align: right;\n",
              "    }\n",
              "</style>\n",
              "<table border=\"1\" class=\"dataframe\">\n",
              "  <thead>\n",
              "    <tr style=\"text-align: right;\">\n",
              "      <th></th>\n",
              "      <th>units</th>\n",
              "      <th>weight</th>\n",
              "      <th>material_handling</th>\n",
              "      <th>weight_class</th>\n",
              "      <th>distance</th>\n",
              "      <th>order_id</th>\n",
              "    </tr>\n",
              "  </thead>\n",
              "  <tbody>\n",
              "    <tr>\n",
              "      <th>0</th>\n",
              "      <td>526</td>\n",
              "      <td>598.0</td>\n",
              "      <td>5.0</td>\n",
              "      <td>0.0</td>\n",
              "      <td>987.7402</td>\n",
              "      <td>21f46131b97a</td>\n",
              "    </tr>\n",
              "    <tr>\n",
              "      <th>1</th>\n",
              "      <td>475</td>\n",
              "      <td>598.0</td>\n",
              "      <td>5.0</td>\n",
              "      <td>0.0</td>\n",
              "      <td>987.7402</td>\n",
              "      <td>7c2bc95d92cf</td>\n",
              "    </tr>\n",
              "    <tr>\n",
              "      <th>2</th>\n",
              "      <td>488</td>\n",
              "      <td>463.0</td>\n",
              "      <td>2.0</td>\n",
              "      <td>0.0</td>\n",
              "      <td>987.7402</td>\n",
              "      <td>af989251c6df</td>\n",
              "    </tr>\n",
              "    <tr>\n",
              "      <th>3</th>\n",
              "      <td>433</td>\n",
              "      <td>594.0</td>\n",
              "      <td>5.0</td>\n",
              "      <td>0.0</td>\n",
              "      <td>987.7402</td>\n",
              "      <td>cbb02981443c</td>\n",
              "    </tr>\n",
              "    <tr>\n",
              "      <th>4</th>\n",
              "      <td>447</td>\n",
              "      <td>504.0</td>\n",
              "      <td>3.0</td>\n",
              "      <td>0.0</td>\n",
              "      <td>987.7402</td>\n",
              "      <td>d831e0817ae2</td>\n",
              "    </tr>\n",
              "    <tr>\n",
              "      <th>...</th>\n",
              "      <td>...</td>\n",
              "      <td>...</td>\n",
              "      <td>...</td>\n",
              "      <td>...</td>\n",
              "      <td>...</td>\n",
              "      <td>...</td>\n",
              "    </tr>\n",
              "    <tr>\n",
              "      <th>28558</th>\n",
              "      <td>471</td>\n",
              "      <td>1884.0</td>\n",
              "      <td>3.0</td>\n",
              "      <td>8.0</td>\n",
              "      <td>-1.0000</td>\n",
              "      <td>1f7e5e9378b7</td>\n",
              "    </tr>\n",
              "    <tr>\n",
              "      <th>28559</th>\n",
              "      <td>368</td>\n",
              "      <td>2876.0</td>\n",
              "      <td>3.0</td>\n",
              "      <td>9.0</td>\n",
              "      <td>-1.0000</td>\n",
              "      <td>028fedb6a722</td>\n",
              "    </tr>\n",
              "    <tr>\n",
              "      <th>28560</th>\n",
              "      <td>535</td>\n",
              "      <td>2411.0</td>\n",
              "      <td>0.0</td>\n",
              "      <td>9.0</td>\n",
              "      <td>-1.0000</td>\n",
              "      <td>2f24b33130fe</td>\n",
              "    </tr>\n",
              "    <tr>\n",
              "      <th>28561</th>\n",
              "      <td>508</td>\n",
              "      <td>2164.0</td>\n",
              "      <td>5.0</td>\n",
              "      <td>9.0</td>\n",
              "      <td>-1.0000</td>\n",
              "      <td>4b598db162aa</td>\n",
              "    </tr>\n",
              "    <tr>\n",
              "      <th>28562</th>\n",
              "      <td>560</td>\n",
              "      <td>2075.0</td>\n",
              "      <td>4.0</td>\n",
              "      <td>9.0</td>\n",
              "      <td>-1.0000</td>\n",
              "      <td>a47b046659fa</td>\n",
              "    </tr>\n",
              "  </tbody>\n",
              "</table>\n",
              "<p>28563 rows × 6 columns</p>\n",
              "</div>\n",
              "      <button class=\"colab-df-convert\" onclick=\"convertToInteractive('df-1d6ea545-b09c-4895-bac8-0a811dea9d1e')\"\n",
              "              title=\"Convert this dataframe to an interactive table.\"\n",
              "              style=\"display:none;\">\n",
              "        \n",
              "  <svg xmlns=\"http://www.w3.org/2000/svg\" height=\"24px\"viewBox=\"0 0 24 24\"\n",
              "       width=\"24px\">\n",
              "    <path d=\"M0 0h24v24H0V0z\" fill=\"none\"/>\n",
              "    <path d=\"M18.56 5.44l.94 2.06.94-2.06 2.06-.94-2.06-.94-.94-2.06-.94 2.06-2.06.94zm-11 1L8.5 8.5l.94-2.06 2.06-.94-2.06-.94L8.5 2.5l-.94 2.06-2.06.94zm10 10l.94 2.06.94-2.06 2.06-.94-2.06-.94-.94-2.06-.94 2.06-2.06.94z\"/><path d=\"M17.41 7.96l-1.37-1.37c-.4-.4-.92-.59-1.43-.59-.52 0-1.04.2-1.43.59L10.3 9.45l-7.72 7.72c-.78.78-.78 2.05 0 2.83L4 21.41c.39.39.9.59 1.41.59.51 0 1.02-.2 1.41-.59l7.78-7.78 2.81-2.81c.8-.78.8-2.07 0-2.86zM5.41 20L4 18.59l7.72-7.72 1.47 1.35L5.41 20z\"/>\n",
              "  </svg>\n",
              "      </button>\n",
              "      \n",
              "  <style>\n",
              "    .colab-df-container {\n",
              "      display:flex;\n",
              "      flex-wrap:wrap;\n",
              "      gap: 12px;\n",
              "    }\n",
              "\n",
              "    .colab-df-convert {\n",
              "      background-color: #E8F0FE;\n",
              "      border: none;\n",
              "      border-radius: 50%;\n",
              "      cursor: pointer;\n",
              "      display: none;\n",
              "      fill: #1967D2;\n",
              "      height: 32px;\n",
              "      padding: 0 0 0 0;\n",
              "      width: 32px;\n",
              "    }\n",
              "\n",
              "    .colab-df-convert:hover {\n",
              "      background-color: #E2EBFA;\n",
              "      box-shadow: 0px 1px 2px rgba(60, 64, 67, 0.3), 0px 1px 3px 1px rgba(60, 64, 67, 0.15);\n",
              "      fill: #174EA6;\n",
              "    }\n",
              "\n",
              "    [theme=dark] .colab-df-convert {\n",
              "      background-color: #3B4455;\n",
              "      fill: #D2E3FC;\n",
              "    }\n",
              "\n",
              "    [theme=dark] .colab-df-convert:hover {\n",
              "      background-color: #434B5C;\n",
              "      box-shadow: 0px 1px 3px 1px rgba(0, 0, 0, 0.15);\n",
              "      filter: drop-shadow(0px 1px 2px rgba(0, 0, 0, 0.3));\n",
              "      fill: #FFFFFF;\n",
              "    }\n",
              "  </style>\n",
              "\n",
              "      <script>\n",
              "        const buttonEl =\n",
              "          document.querySelector('#df-1d6ea545-b09c-4895-bac8-0a811dea9d1e button.colab-df-convert');\n",
              "        buttonEl.style.display =\n",
              "          google.colab.kernel.accessAllowed ? 'block' : 'none';\n",
              "\n",
              "        async function convertToInteractive(key) {\n",
              "          const element = document.querySelector('#df-1d6ea545-b09c-4895-bac8-0a811dea9d1e');\n",
              "          const dataTable =\n",
              "            await google.colab.kernel.invokeFunction('convertToInteractive',\n",
              "                                                     [key], {});\n",
              "          if (!dataTable) return;\n",
              "\n",
              "          const docLinkHtml = 'Like what you see? Visit the ' +\n",
              "            '<a target=\"_blank\" href=https://colab.research.google.com/notebooks/data_table.ipynb>data table notebook</a>'\n",
              "            + ' to learn more about interactive tables.';\n",
              "          element.innerHTML = '';\n",
              "          dataTable['output_type'] = 'display_data';\n",
              "          await google.colab.output.renderOutput(dataTable, element);\n",
              "          const docLink = document.createElement('div');\n",
              "          docLink.innerHTML = docLinkHtml;\n",
              "          element.appendChild(docLink);\n",
              "        }\n",
              "      </script>\n",
              "    </div>\n",
              "  </div>\n",
              "  "
            ],
            "text/plain": [
              "       units  weight  material_handling  weight_class  distance      order_id\n",
              "0        526   598.0                5.0           0.0  987.7402  21f46131b97a\n",
              "1        475   598.0                5.0           0.0  987.7402  7c2bc95d92cf\n",
              "2        488   463.0                2.0           0.0  987.7402  af989251c6df\n",
              "3        433   594.0                5.0           0.0  987.7402  cbb02981443c\n",
              "4        447   504.0                3.0           0.0  987.7402  d831e0817ae2\n",
              "...      ...     ...                ...           ...       ...           ...\n",
              "28558    471  1884.0                3.0           8.0   -1.0000  1f7e5e9378b7\n",
              "28559    368  2876.0                3.0           9.0   -1.0000  028fedb6a722\n",
              "28560    535  2411.0                0.0           9.0   -1.0000  2f24b33130fe\n",
              "28561    508  2164.0                5.0           9.0   -1.0000  4b598db162aa\n",
              "28562    560  2075.0                4.0           9.0   -1.0000  a47b046659fa\n",
              "\n",
              "[28563 rows x 6 columns]"
            ]
          },
          "execution_count": 670,
          "metadata": {},
          "output_type": "execute_result"
        }
      ],
      "source": [
        "X_test"
      ]
    },
    {
      "cell_type": "code",
      "execution_count": null,
      "metadata": {
        "id": "sqr68zdMl4-Z"
      },
      "outputs": [],
      "source": [
        "submission = pd.DataFrame({\"order_id\": X_test.order_id, \"late_order\": pred_proba[:,1]})\n",
        "submission.to_csv(\"submission_kaggle3.csv\", index=False)"
      ]
    }
  ],
  "metadata": {
    "accelerator": "GPU",
    "colab": {
      "provenance": []
    },
    "gpuClass": "standard",
    "kernelspec": {
      "display_name": "Python 3",
      "language": "python",
      "name": "python3"
    },
    "language_info": {
      "codemirror_mode": {
        "name": "ipython",
        "version": 3
      },
      "file_extension": ".py",
      "mimetype": "text/x-python",
      "name": "python",
      "nbconvert_exporter": "python",
      "pygments_lexer": "ipython3",
      "version": "3.6.13"
    }
  },
  "nbformat": 4,
  "nbformat_minor": 0
}